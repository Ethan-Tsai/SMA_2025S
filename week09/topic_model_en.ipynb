{
 "cells": [
  {
   "attachments": {},
   "cell_type": "markdown",
   "metadata": {},
   "source": [
    "## 第九週：主題模型（英文）\n",
    "\n",
    "本週課程為 **主題模型** ，學習如何將文本進行主題模型分析。<br>\n",
    "文件主題模型採用非監督式學習的方式，不用事先人為做標籤與註解，而是直接從文本中學習，讓我們可以規模化給予大量文本，而訓練出主題模型，其中最為知名為LDA模型，也是本次課程主要的教學目標，本 jupyter notebook 是以英文文本為示範如何使用 LDA 模型進行主題建構與視覺化分析。<br>\n",
    "<br>\n",
    "這次課程分為四個部分：<br>\n",
    "1. 介紹使用到的套件 \n",
    "2. 將資料進行前處理 \n",
    "3. 建立LDA模型 \n",
    "4. 視覺化主題模型"
   ]
  },
  {
   "cell_type": "code",
   "execution_count": 1,
   "metadata": {},
   "outputs": [],
   "source": [
    "import re\n",
    "from nltk.corpus import stopwords\n",
    "\n",
    "from pprint import pprint\n",
    "import time\n",
    "\n",
    "import pandas as pd\n",
    "import numpy as np\n",
    "import matplotlib.pyplot as plt\n",
    "\n",
    "from gensim.models import Phrases\n",
    "from gensim.corpora import Dictionary\n",
    "from gensim.models import LdaModel, CoherenceModel\n",
    "from gensim.matutils import corpus2csc\n",
    "\n",
    "import pyLDAvis\n",
    "import pyLDAvis.gensim_models"
   ]
  },
  {
   "cell_type": "markdown",
   "metadata": {},
   "source": [
    "#### 匯入資料\n",
    "- 資料來源: 古騰堡-傲慢與偏見"
   ]
  },
  {
   "cell_type": "code",
   "execution_count": 2,
   "metadata": {},
   "outputs": [
    {
     "data": {
      "text/html": [
       "<div>\n",
       "<style scoped>\n",
       "    .dataframe tbody tr th:only-of-type {\n",
       "        vertical-align: middle;\n",
       "    }\n",
       "\n",
       "    .dataframe tbody tr th {\n",
       "        vertical-align: top;\n",
       "    }\n",
       "\n",
       "    .dataframe thead th {\n",
       "        text-align: right;\n",
       "    }\n",
       "</style>\n",
       "<table border=\"1\" class=\"dataframe\">\n",
       "  <thead>\n",
       "    <tr style=\"text-align: right;\">\n",
       "      <th></th>\n",
       "      <th>sentence</th>\n",
       "      <th>chapter</th>\n",
       "    </tr>\n",
       "  </thead>\n",
       "  <tbody>\n",
       "    <tr>\n",
       "      <th>1</th>\n",
       "      <td>It is a truth universally acknowledged that a ...</td>\n",
       "      <td>1</td>\n",
       "    </tr>\n",
       "    <tr>\n",
       "      <th>2</th>\n",
       "      <td>However little known the feelings or views of ...</td>\n",
       "      <td>1</td>\n",
       "    </tr>\n",
       "    <tr>\n",
       "      <th>3</th>\n",
       "      <td>My dear Mr_Bennet said his lady to him one day...</td>\n",
       "      <td>1</td>\n",
       "    </tr>\n",
       "    <tr>\n",
       "      <th>4</th>\n",
       "      <td>Mr_Bennet replied that he had not</td>\n",
       "      <td>1</td>\n",
       "    </tr>\n",
       "    <tr>\n",
       "      <th>5</th>\n",
       "      <td>But it is returned she for Mrs_Long has just b...</td>\n",
       "      <td>1</td>\n",
       "    </tr>\n",
       "  </tbody>\n",
       "</table>\n",
       "</div>"
      ],
      "text/plain": [
       "                                            sentence  chapter\n",
       "1  It is a truth universally acknowledged that a ...        1\n",
       "2  However little known the feelings or views of ...        1\n",
       "3  My dear Mr_Bennet said his lady to him one day...        1\n",
       "4                  Mr_Bennet replied that he had not        1\n",
       "5  But it is returned she for Mrs_Long has just b...        1"
      ]
     },
     "execution_count": 2,
     "metadata": {},
     "output_type": "execute_result"
    }
   ],
   "source": [
    "#匯入資料\n",
    "books = pd.read_csv('./raw_data/en_tp_clean.csv')\n",
    "books = books.iloc[1:,:]\n",
    "books.head()"
   ]
  },
  {
   "attachments": {},
   "cell_type": "markdown",
   "metadata": {},
   "source": [
    "## 2. LDA 主題模型"
   ]
  },
  {
   "cell_type": "markdown",
   "metadata": {},
   "source": [
    "#### 資料前處理"
   ]
  },
  {
   "cell_type": "code",
   "execution_count": 3,
   "metadata": {},
   "outputs": [],
   "source": [
    "# 新增stop_words\n",
    "stop_words = stopwords.words('english')"
   ]
  },
  {
   "cell_type": "code",
   "execution_count": 4,
   "metadata": {},
   "outputs": [
    {
     "data": {
      "text/html": [
       "<div>\n",
       "<style scoped>\n",
       "    .dataframe tbody tr th:only-of-type {\n",
       "        vertical-align: middle;\n",
       "    }\n",
       "\n",
       "    .dataframe tbody tr th {\n",
       "        vertical-align: top;\n",
       "    }\n",
       "\n",
       "    .dataframe thead th {\n",
       "        text-align: right;\n",
       "    }\n",
       "</style>\n",
       "<table border=\"1\" class=\"dataframe\">\n",
       "  <thead>\n",
       "    <tr style=\"text-align: right;\">\n",
       "      <th></th>\n",
       "      <th>chapter</th>\n",
       "      <th>sentence</th>\n",
       "    </tr>\n",
       "  </thead>\n",
       "  <tbody>\n",
       "    <tr>\n",
       "      <th>0</th>\n",
       "      <td>1</td>\n",
       "      <td>It is a truth universally acknowledged that a ...</td>\n",
       "    </tr>\n",
       "    <tr>\n",
       "      <th>1</th>\n",
       "      <td>2</td>\n",
       "      <td>Mr_Bennet was among the earliest of those who ...</td>\n",
       "    </tr>\n",
       "    <tr>\n",
       "      <th>2</th>\n",
       "      <td>3</td>\n",
       "      <td>Not all that Mrs_Bennet however with the assis...</td>\n",
       "    </tr>\n",
       "    <tr>\n",
       "      <th>3</th>\n",
       "      <td>4</td>\n",
       "      <td>When Jane and Elizabeth were alone the former ...</td>\n",
       "    </tr>\n",
       "    <tr>\n",
       "      <th>4</th>\n",
       "      <td>5</td>\n",
       "      <td>Sir William Lucas had been formerly in trade i...</td>\n",
       "    </tr>\n",
       "  </tbody>\n",
       "</table>\n",
       "</div>"
      ],
      "text/plain": [
       "   chapter                                           sentence\n",
       "0        1  It is a truth universally acknowledged that a ...\n",
       "1        2  Mr_Bennet was among the earliest of those who ...\n",
       "2        3  Not all that Mrs_Bennet however with the assis...\n",
       "3        4  When Jane and Elizabeth were alone the former ...\n",
       "4        5  Sir William Lucas had been formerly in trade i..."
      ]
     },
     "execution_count": 4,
     "metadata": {},
     "output_type": "execute_result"
    }
   ],
   "source": [
    "# 將每個章節的句子合併在一起\n",
    "books = books.groupby('chapter')['sentence'].apply(lambda x: \" \".join(x)).reset_index()\n",
    "books.head()"
   ]
  },
  {
   "cell_type": "code",
   "execution_count": 5,
   "metadata": {},
   "outputs": [
    {
     "data": {
      "text/plain": [
       "61"
      ]
     },
     "execution_count": 5,
     "metadata": {},
     "output_type": "execute_result"
    }
   ],
   "source": [
    "books['sentence'] = books['sentence'].str.lower()\n",
    "# 去除掉停用字之後轉換成List儲存\n",
    "docs = [[word for word in doc.split() if word not in stop_words] for doc in books['sentence']]\n",
    "# 總共有61個chapter\n",
    "len(docs)"
   ]
  },
  {
   "attachments": {},
   "cell_type": "markdown",
   "metadata": {},
   "source": [
    "#### LDA模型訓練資料轉換\n",
    "1. 把常見的bigram (出現20次以上) 加入到docs裡面\n",
    "    - 用 gensim 的 Phrases 模型來找出文件中常出現的 雙字詞（bigram），例如 ('mr', 'bennet') → 'mr_bennet'。\n",
    "2. 建立字典（docs的詞彙表）\n",
    "    - 建立token_id跟詞彙的對應\n",
    "3. 將docs轉換成BOW形式\n",
    "    - 把每篇文件的 token list 轉換成一組 (token_id, count) 的 list"
   ]
  },
  {
   "cell_type": "code",
   "execution_count": 6,
   "metadata": {},
   "outputs": [],
   "source": [
    "# 計算 bigrams.\n",
    "# 針對docs建立一個 bigram 模型，找出出現次數大於20次的bigram\n",
    "bigram = Phrases(docs, min_count=20)\n",
    "for idx in range(len(docs)):\n",
    "    for token in bigram[docs[idx]]:\n",
    "        if '_' in token:\n",
    "            # 將Token (bigram) 加入到docs裡面\n",
    "            docs[idx].append(token)"
   ]
  },
  {
   "cell_type": "code",
   "execution_count": 7,
   "metadata": {},
   "outputs": [
    {
     "name": "stdout",
     "output_type": "stream",
     "text": [
      "Dictionary<6860 unique tokens: ['abuse', 'account', 'acknowledged', 'affect', 'agreed']...>\n"
     ]
    }
   ],
   "source": [
    "# 建立 docs 的 dictionary物件\n",
    "dictionary = Dictionary(docs)\n",
    "print(dictionary)\n",
    "\n",
    "# Bag-of-words representation of the documents.\n",
    "# 用 gensim ldamodel input 需要將文章轉換成 bag of words \n",
    "corpus = [dictionary.doc2bow(doc) for doc in docs]"
   ]
  },
  {
   "cell_type": "markdown",
   "metadata": {},
   "source": [
    "#### **開始訓練 LDA topic model**\n",
    "\n",
    "+ 參數說明：\n",
    "    + corpus = 文檔語料庫\n",
    "    + id2word = 詞彙字典\n",
    "    + num_topics = 生成幾個主題數\n",
    "    + random_state = 固定亂數值，每次的模型結果會一樣\n",
    "    + iteration = 每個文章訓練的次數，可以設定高一點讓模型收斂\n",
    "    + passes(epoch) = 整個 corpus 訓練模型的次數\n",
    "    + alpha = 文章主題分佈\n",
    "    + eta = 主題字分佈\n",
    "\n",
    "模型參數沒有一個絕對的答案，同學們應該**使用相同的資料**，嘗試做參數上的調整，進而比較出較佳的模型結果。"
   ]
  },
  {
   "cell_type": "code",
   "execution_count": 8,
   "metadata": {},
   "outputs": [
    {
     "name": "stdout",
     "output_type": "stream",
     "text": [
      "花費時間: 96.82636380195618 sec\n"
     ]
    }
   ],
   "source": [
    "t0 = time.time()\n",
    "\n",
    "topic_num_list = np.arange(2, 16)\n",
    "result = {\"topic_num\":[], \"perplexity\":[], \"pmi\":[]}\n",
    "model_set = dict()\n",
    "\n",
    "\n",
    "for topic_num in topic_num_list:\n",
    "    # 根據不同topic_num訓練LDA模型\n",
    "    model = LdaModel(\n",
    "        corpus = corpus,\n",
    "        num_topics = topic_num ,\n",
    "        id2word=dictionary,\n",
    "        random_state = 1500,\n",
    "        passes=5\n",
    "        )\n",
    "    \n",
    "    loss = model.log_perplexity(corpus)\n",
    "    # 計算Perplexity和PMI值\n",
    "    pmi = CoherenceModel(model=model, texts=docs, coherence='c_npmi').get_coherence()\n",
    "    perplexity = np.exp(-1. * loss)\n",
    "    \n",
    "    # 將結果儲存起來\n",
    "    result['topic_num'].append(topic_num)\n",
    "    result['perplexity'].append(perplexity)\n",
    "    result['pmi'].append(pmi)\n",
    "    \n",
    "print(f\"花費時間: {time.time() - t0} sec\")"
   ]
  },
  {
   "cell_type": "markdown",
   "metadata": {},
   "source": [
    "#### 視覺化Perplexity 和 PMI 評估主題模型表現\n",
    "+ **Pointwise Mutual Information (PMI)** : <br>\n",
    "自然語言處理中，想要探討兩個字之間是否存在某種關係。<br>\n",
    "例如：某些字會一起出現，可能帶有某些訊息，因此這個可以用 PMI 來計算，數字越大越好。\n",
    "+ **perplexity** :<br>\n",
    "perplexity 也是評估的指標之一，廣泛用於語言模型的評估，\b意思為複雜度，因此數字要越小越好。"
   ]
  },
  {
   "cell_type": "code",
   "execution_count": 9,
   "metadata": {},
   "outputs": [
    {
     "data": {
      "text/html": [
       "<div>\n",
       "<style scoped>\n",
       "    .dataframe tbody tr th:only-of-type {\n",
       "        vertical-align: middle;\n",
       "    }\n",
       "\n",
       "    .dataframe tbody tr th {\n",
       "        vertical-align: top;\n",
       "    }\n",
       "\n",
       "    .dataframe thead th {\n",
       "        text-align: right;\n",
       "    }\n",
       "</style>\n",
       "<table border=\"1\" class=\"dataframe\">\n",
       "  <thead>\n",
       "    <tr style=\"text-align: right;\">\n",
       "      <th></th>\n",
       "      <th>topic_num</th>\n",
       "      <th>perplexity</th>\n",
       "      <th>pmi</th>\n",
       "    </tr>\n",
       "  </thead>\n",
       "  <tbody>\n",
       "    <tr>\n",
       "      <th>0</th>\n",
       "      <td>2</td>\n",
       "      <td>2416.134127</td>\n",
       "      <td>-0.027947</td>\n",
       "    </tr>\n",
       "    <tr>\n",
       "      <th>1</th>\n",
       "      <td>3</td>\n",
       "      <td>2460.494478</td>\n",
       "      <td>-0.036463</td>\n",
       "    </tr>\n",
       "    <tr>\n",
       "      <th>2</th>\n",
       "      <td>4</td>\n",
       "      <td>2563.683898</td>\n",
       "      <td>-0.026242</td>\n",
       "    </tr>\n",
       "    <tr>\n",
       "      <th>3</th>\n",
       "      <td>5</td>\n",
       "      <td>2652.413321</td>\n",
       "      <td>-0.029264</td>\n",
       "    </tr>\n",
       "    <tr>\n",
       "      <th>4</th>\n",
       "      <td>6</td>\n",
       "      <td>2705.724965</td>\n",
       "      <td>-0.031729</td>\n",
       "    </tr>\n",
       "    <tr>\n",
       "      <th>5</th>\n",
       "      <td>7</td>\n",
       "      <td>2764.846154</td>\n",
       "      <td>-0.031329</td>\n",
       "    </tr>\n",
       "    <tr>\n",
       "      <th>6</th>\n",
       "      <td>8</td>\n",
       "      <td>2881.676920</td>\n",
       "      <td>-0.031757</td>\n",
       "    </tr>\n",
       "    <tr>\n",
       "      <th>7</th>\n",
       "      <td>9</td>\n",
       "      <td>2937.824713</td>\n",
       "      <td>-0.028513</td>\n",
       "    </tr>\n",
       "    <tr>\n",
       "      <th>8</th>\n",
       "      <td>10</td>\n",
       "      <td>3042.276290</td>\n",
       "      <td>-0.042998</td>\n",
       "    </tr>\n",
       "    <tr>\n",
       "      <th>9</th>\n",
       "      <td>11</td>\n",
       "      <td>3131.659853</td>\n",
       "      <td>-0.043765</td>\n",
       "    </tr>\n",
       "    <tr>\n",
       "      <th>10</th>\n",
       "      <td>12</td>\n",
       "      <td>3209.770347</td>\n",
       "      <td>-0.032723</td>\n",
       "    </tr>\n",
       "    <tr>\n",
       "      <th>11</th>\n",
       "      <td>13</td>\n",
       "      <td>3259.350636</td>\n",
       "      <td>-0.036987</td>\n",
       "    </tr>\n",
       "    <tr>\n",
       "      <th>12</th>\n",
       "      <td>14</td>\n",
       "      <td>3404.101521</td>\n",
       "      <td>-0.035117</td>\n",
       "    </tr>\n",
       "    <tr>\n",
       "      <th>13</th>\n",
       "      <td>15</td>\n",
       "      <td>3488.086646</td>\n",
       "      <td>-0.034678</td>\n",
       "    </tr>\n",
       "  </tbody>\n",
       "</table>\n",
       "</div>"
      ],
      "text/plain": [
       "    topic_num   perplexity       pmi\n",
       "0           2  2416.134127 -0.027947\n",
       "1           3  2460.494478 -0.036463\n",
       "2           4  2563.683898 -0.026242\n",
       "3           5  2652.413321 -0.029264\n",
       "4           6  2705.724965 -0.031729\n",
       "5           7  2764.846154 -0.031329\n",
       "6           8  2881.676920 -0.031757\n",
       "7           9  2937.824713 -0.028513\n",
       "8          10  3042.276290 -0.042998\n",
       "9          11  3131.659853 -0.043765\n",
       "10         12  3209.770347 -0.032723\n",
       "11         13  3259.350636 -0.036987\n",
       "12         14  3404.101521 -0.035117\n",
       "13         15  3488.086646 -0.034678"
      ]
     },
     "execution_count": 9,
     "metadata": {},
     "output_type": "execute_result"
    }
   ],
   "source": [
    "result = pd.DataFrame(result)\n",
    "result"
   ]
  },
  {
   "cell_type": "code",
   "execution_count": 10,
   "metadata": {},
   "outputs": [
    {
     "name": "stderr",
     "output_type": "stream",
     "text": [
      "/opt/anaconda3/envs/SMA2025/lib/python3.11/site-packages/IPython/core/pylabtools.py:77: DeprecationWarning: backend2gui is deprecated since IPython 8.24, backends are managed in matplotlib and can be externally registered.\n",
      "  warnings.warn(\n",
      "/opt/anaconda3/envs/SMA2025/lib/python3.11/site-packages/IPython/core/pylabtools.py:77: DeprecationWarning: backend2gui is deprecated since IPython 8.24, backends are managed in matplotlib and can be externally registered.\n",
      "  warnings.warn(\n",
      "/opt/anaconda3/envs/SMA2025/lib/python3.11/site-packages/IPython/core/pylabtools.py:77: DeprecationWarning: backend2gui is deprecated since IPython 8.24, backends are managed in matplotlib and can be externally registered.\n",
      "  warnings.warn(\n"
     ]
    },
    {
     "data": {
      "text/plain": [
       "<Axes: xlabel='topic_num'>"
      ]
     },
     "execution_count": 10,
     "metadata": {},
     "output_type": "execute_result"
    },
    {
     "data": {
      "image/png": "[encoded data removed]",
      "text/plain": [
       "<Figure size 640x480 with 1 Axes>"
      ]
     },
     "metadata": {},
     "output_type": "display_data"
    }
   ],
   "source": [
    "result.plot.line(x='topic_num', y='perplexity')"
   ]
  },
  {
   "cell_type": "code",
   "execution_count": 11,
   "metadata": {},
   "outputs": [
    {
     "data": {
      "text/plain": [
       "<Axes: xlabel='topic_num'>"
      ]
     },
     "execution_count": 11,
     "metadata": {},
     "output_type": "execute_result"
    },
    {
     "data": {
      "image/png": "[encoded data removed]",
      "text/plain": [
       "<Figure size 640x480 with 1 Axes>"
      ]
     },
     "metadata": {},
     "output_type": "display_data"
    }
   ],
   "source": [
    "result.plot.line(x='topic_num', y='pmi')"
   ]
  },
  {
   "attachments": {},
   "cell_type": "markdown",
   "metadata": {},
   "source": [
    "## 3. LDAvis視覺化結果\n",
    "\n",
    "LDAvis 是我們經常會使用的視覺化工具，目的為幫助我們解釋主題模型中，在我們建構好主題模型得到 θ(文件的主題分佈) 跟 φ(主題的字分佈)，透過 pyLDAvis 將主題降維成二維，以網頁的形式供我們查看。\n",
    "\n",
    "+ 四個主題數，因此有四個圈圈\n",
    "+ 圓越大代表 document 越大\n",
    "+ 右邊可以看到主題的字分佈\n",
    "+ 右上幫有一個 bar 調整 lambda：當 lambda=1 也就是代表本來的字分佈 φ，將 lambda 縮越小可以看到越唯一的字，好的分佈是 φ 值高且唯一，因此我們要在這兩者間取平衡\n",
    "  - λ = 1.0 👉 根據 詞在該主題中出現的機率 排序（也就是根據φ值）\n",
    "  - λ = 0.0 👉 根據 詞在主題中「相對其他主題」的特異性 排序\n",
    "+ 圓心越相近，代表主題會越相似；反之，圓心分越開代表主題有唯一性<br>\n",
    "  --> 假設詞彙本來有 100 字，維度應該是 100，假如本來維度接近(相近)的話，降維後也會接近(相近)\n",
    "\n",
    "以下用主題數 4 來做 LDAvis 的結果範例"
   ]
  },
  {
   "cell_type": "code",
   "execution_count": 12,
   "metadata": {},
   "outputs": [],
   "source": [
    "model = LdaModel(\n",
    "    corpus = corpus,\n",
    "    num_topics = 4,\n",
    "    id2word=dictionary,\n",
    "    random_state = 1500,\n",
    "    passes=5\n",
    "    )"
   ]
  },
  {
   "cell_type": "code",
   "execution_count": 13,
   "metadata": {},
   "outputs": [
    {
     "data": {
      "text/html": [
       "\n",
       "<link rel=\"stylesheet\" type=\"text/css\" href=\"https://cdn.jsdelivr.net/gh/bmabey/pyLDAvis@3.4.0/pyLDAvis/js/ldavis.v1.0.0.css\">\n",
       "\n",
       "\n",
       "<div id=\"ldavis_el95150132679444969281182677\" style=\"background-color:white;\"></div>\n",
       "<script type=\"text/javascript\">\n",
       "\n",
       "var ldavis_el95150132679444969281182677_data = {\"mdsDat\": {\"x\": [0.023024981450093872, 0.034320011630727884, -0.0616584455116161, 0.004313452430794362], \"y\": [-0.020125536749619827, -0.019450062525081878, -0.014554818755691586, 0.05413041803039329], \"topics\": [1, 2, 3, 4], \"cluster\": [1, 1, 1, 1], \"Freq\": [56.40612310417682, 32.03767689897268, 5.837555152751257, 5.718644844099249]}, \"tinfo\": {\"Term\": [\"could\", \"mrs_bennet\", \"mr_darcy\", \"would\", \"miss\", \"mr_bingley\", \"one\", \"bingley\", \"soon\", \"elizabeth\", \"said\", \"every\", \"much\", \"must\", \"mr_bennet\", \"never\", \"sister\", \"room\", \"jane\", \"time\", \"might\", \"though\", \"sisters\", \"first\", \"miss_bingley\", \"darcy\", \"mr_wickham\", \"mr_collins\", \"quite\", \"thing\", \"tuesday\", \"street\", \"persuade\", \"ladyships\", \"mr_denny\", \"taught\", \"aunts\", \"wanting\", \"openly\", \"choose\", \"domestic\", \"humble\", \"christmas\", \"mrs_jenkinson\", \"amusement\", \"lakes\", \"solemnity\", \"useful\", \"entertain\", \"addresses\", \"repeat\", \"guest\", \"endeavoured\", \"tolerably\", \"imagined\", \"risk\", \"proposed\", \"forbearance\", \"accident\", \"sweetness\", \"play\", \"mr_collins\", \"charlotte\", \"lady_catherine\", \"nephew\", \"ladyship\", \"catherine\", \"proper\", \"happiness\", \"chuse\", \"lady\", \"sir_william\", \"begin\", \"girl\", \"though\", \"give\", \"elizabeth\", \"shall\", \"happy\", \"town\", \"miss\", \"would\", \"hope\", \"make\", \"love\", \"could\", \"jane\", \"sir\", \"mrs_bennet\", \"much\", \"ever\", \"day\", \"longbourn\", \"pleasure\", \"without\", \"every\", \"must\", \"think\", \"soon\", \"may\", \"said\", \"mr_bennet\", \"mr_darcy\", \"well\", \"one\", \"nothing\", \"might\", \"sister\", \"little\", \"never\", \"time\", \"know\", \"good\", \"mrs_reynolds\", \"today\", \"attempted\", \"rejoice\", \"treat\", \"mr_philips\", \"stream\", \"valley\", \"occasioned\", \"die\", \"cheeks\", \"fit\", \"gentleness\", \"ring\", \"parts\", \"wood\", \"hill\", \"settling\", \"bridge\", \"water\", \"minds\", \"miniatures\", \"agitated\", \"fancied\", \"waiter\", \"steadily\", \"unequal\", \"regiments\", \"energy\", \"speaks\", \"mrs_f\", \"fun\", \"mrs_hill\", \"liked\", \"mrs_forster\", \"colour\", \"property\", \"river\", \"distressed\", \"lord\", \"mamma\", \"vain\", \"longed\", \"master\", \"housekeeper\", \"lydia\", \"said\", \"brighton\", \"know\", \"mr_darcy\", \"continued\", \"misery\", \"pride\", \"sure\", \"news\", \"good\", \"talk\", \"man\", \"elizabeth\", \"go\", \"could\", \"one\", \"felt\", \"must\", \"thing\", \"never\", \"like\", \"much\", \"would\", \"well\", \"dear\", \"mr_bingley\", \"say\", \"may\", \"think\", \"every\", \"little\", \"time\", \"jane\", \"might\", \"us\", \"nothing\", \"mrs_bennet\", \"see\", \"soon\", \"miss\", \"grove\", \"saloon\", \"revealed\", \"gross\", \"fainter\", \"comfortably\", \"previously\", \"idleness\", \"lieu\", \"school\", \"edged\", \"meit\", \"liberally\", \"gates\", \"existing\", \"containing\", \"closely\", \"shrewish\", \"fruit\", \"abovementioned\", \"coarse\", \"selfsufficiency\", \"mostly\", \"peaches\", \"criticisms\", \"uppermost\", \"nose\", \"nettled\", \"venting\", \"spanish\", \"mrs_annesley\", \"along\", \"lane\", \"georgiana\", \"collected\", \"events\", \"remind\", \"discussed\", \"err\", \"determination\", \"betray\", \"assertions\", \"haughty\", \"perusal\", \"colonel_fitzwilliam\", \"charge\", \"fitzwilliam\", \"could\", \"mr_darcy\", \"miss\", \"every\", \"wished\", \"mr_wickham\", \"miss_bingley\", \"scarcely\", \"one\", \"read\", \"soon\", \"would\", \"elizabeth\", \"first\", \"must\", \"thing\", \"might\", \"bingley\", \"letter\", \"family\", \"though\", \"whole\", \"believed\", \"darcy\", \"mr_collins\", \"never\", \"mrs_gardiner\", \"time\", \"sister\", \"without\", \"great\", \"much\", \"room\", \"two\", \"well\", \"mr_jones\", \"petticoat\", \"mrs_hursts\", \"creditors\", \"accomplished\", \"acknowledgments\", \"cheapside\", \"mr_bingleyis\", \"stout\", \"intricate\", \"poetry\", \"vast\", \"ascertaining\", \"eluded\", \"suppositions\", \"barefaced\", \"forbidding\", \"boulanger\", \"proudest\", \"sprained\", \"crown\", \"catching\", \"starting\", \"popularity\", \"comforted\", \"seven\", \"gods\", \"ancle\", \"quieter\", \"dresses\", \"dispatched\", \"north\", \"sum\", \"danced\", \"pocket\", \"partners\", \"assembly\", \"detest\", \"shocking\", \"slighted\", \"consulted\", \"haggerston\", \"brotherinlaw\", \"kingdom\", \"mr_bingley\", \"list\", \"transports\", \"nuptials\", \"mrs_bennet\", \"mr_hurst\", \"country\", \"bingley\", \"five\", \"neighbourhood\", \"ladies\", \"miss_bingley\", \"would\", \"soon\", \"daughters\", \"could\", \"quite\", \"miss\", \"husband\", \"mr_bennet\", \"room\", \"said\", \"much\", \"mr_darcy\", \"sisters\", \"one\", \"wish\", \"jane\", \"elizabeth\", \"sister\", \"must\", \"never\", \"time\", \"many\", \"young\", \"good\", \"little\", \"every\", \"darcy\", \"think\"], \"Freq\": [467.0, 244.0, 401.0, 423.0, 249.0, 146.0, 258.0, 144.0, 192.0, 535.0, 365.0, 255.0, 299.0, 281.0, 146.0, 200.0, 157.0, 98.0, 237.0, 182.0, 181.0, 204.0, 99.0, 130.0, 59.0, 130.0, 102.0, 233.0, 84.0, 146.0, 11.405391985970953, 10.493879296715217, 16.519917864149996, 11.224038219469614, 11.23985625684467, 7.750863002314018, 6.761056102917793, 6.730806701020409, 7.567199943172025, 5.862930087294685, 6.691679941133793, 8.401621759889766, 5.796688455374936, 13.963007422511662, 10.904299714291009, 5.777304753120754, 4.932182741399668, 5.757888590011794, 4.932581415559765, 5.756431966302998, 4.914918595803985, 4.918974831065893, 8.99964031515796, 11.319128407384756, 4.882761775792006, 4.864852070661854, 4.863903390751072, 5.688472652250812, 5.689314348499365, 4.858788291550191, 15.323554316285273, 190.6998226579602, 51.593951918735584, 77.27984043231919, 16.726394503469393, 24.373467808787616, 83.39501925014673, 15.911499033888806, 54.58057366959093, 10.433740762688977, 122.89139031634514, 28.569004942818825, 11.111607534370792, 27.666701078027174, 142.16076818316745, 83.08031537782477, 335.4573129209689, 105.30401507341234, 56.433446575473724, 43.44933143283534, 164.12020908914923, 263.1351283143429, 79.21054989600961, 104.7677215192983, 61.083165016883335, 272.9148614908075, 150.63466426481926, 51.88477191706272, 153.03324894465325, 181.46352991000262, 84.88020851114784, 81.93396257729538, 57.187621044422606, 60.118095574804066, 100.19698445232119, 152.97156783423233, 164.4626299595007, 119.89500653490906, 116.04822516705767, 109.71090071815057, 191.5375065619856, 92.17820601368983, 201.93021771862476, 114.75552603172264, 140.97481131102765, 99.10033059204319, 106.14564914342772, 96.63648039190849, 102.20035502486017, 110.94190411282025, 104.03807465509816, 112.53376248579455, 94.40648733350135, 14.456853686513234, 7.960369760739758, 4.683947202990452, 6.261148523613788, 4.6299298734327445, 5.40715504753852, 3.8111420807542187, 3.8058287943720157, 3.79237172351045, 3.7754827386257577, 3.764047526313228, 3.7548603527187825, 3.7592525586651475, 4.528179439450476, 4.52457198260958, 3.7219803519787535, 5.926585725959171, 2.914975741103601, 2.9132862713219376, 2.9112545449813703, 2.9139809119100026, 2.9035493578677043, 3.648518539208449, 5.731580507145709, 2.8864508122523325, 2.87764900188506, 3.6216360782897072, 2.8631056949188682, 2.872959463799131, 2.8671076037422942, 3.603362486445927, 6.501596480501632, 4.9260311358427105, 17.893235222416113, 16.257182393099587, 8.962149515078458, 6.267260322073859, 4.702204694753313, 9.368650590426677, 8.585326082439607, 5.5841364854411815, 13.312827639819803, 6.6400493860487195, 14.78678900929708, 9.990707858846095, 60.28985876110165, 151.56469095710614, 14.174872714427234, 95.47744358945994, 156.948441680562, 26.86755120509532, 9.919918399829726, 25.135101478381028, 44.49084312237883, 17.72215472384922, 72.59919951864782, 17.280654150011518, 55.348305589180065, 166.2395387005563, 41.80806690315772, 142.78884638485516, 90.01458433936929, 40.90817417381039, 93.77371017481688, 57.31437268361269, 71.70584653829854, 33.42206449672019, 95.30693646151677, 122.24670535861327, 69.02029487286988, 55.825316709237086, 54.902871402023486, 54.53984470001786, 62.55902286278254, 65.1016473582408, 77.93158786782537, 59.99313115360816, 61.6717484420166, 71.40775198199924, 59.34429996997685, 44.07129371048142, 52.99988338591908, 62.78658452264529, 46.1557078255372, 51.24914188985029, 52.13894246524826, 1.7507995660359446, 1.285527138876465, 1.2732416814695189, 1.2657848978797932, 1.265097966839947, 1.2329158296076985, 1.2275410366237947, 1.2247454288570028, 1.2136338768845925, 1.200252301247237, 1.1991405687970214, 1.179787453084252, 1.16275016274786, 1.1507033663248638, 1.1357140938372605, 1.124822276521762, 0.7196337930196688, 0.7185637931205721, 0.7178640868099749, 0.7169355612054876, 0.7166170311214372, 0.7163824866136179, 0.7162466902171198, 0.7163039896722275, 0.7163938424098407, 0.7161330376232563, 0.7160862422796547, 0.7145626729530908, 0.7157671917216106, 0.7153373275187587, 2.424318085700303, 2.7596895726024164, 3.2866910670812484, 3.4957293210043052, 1.285734949947343, 1.80065794640539, 1.290644533812651, 1.281825433202726, 1.2730014117477708, 1.2524823396578217, 1.2450884861054978, 1.2396443281329994, 1.2268427497877255, 1.230875760816266, 4.927855341430736, 2.2831049744039227, 5.421152643456919, 28.18454720328627, 24.64235942730164, 18.188771101600008, 17.11418421788229, 5.195967961411151, 9.339788849493992, 6.926720761848382, 5.330724545501767, 13.961571415330614, 4.962992446103437, 11.035768687790734, 15.74897071259276, 17.58464122843894, 8.773994630275057, 12.383026408092714, 9.108686283509963, 9.963695977356751, 8.834597486504009, 7.508285153808511, 8.327222782426917, 9.96373004474542, 6.19833198115163, 4.443898560324377, 7.895177888173633, 9.568790593176795, 8.768008611559459, 6.588955473102494, 8.203137240046901, 7.817620071130904, 7.2112182816721875, 6.331614961419062, 7.068970278813366, 6.026666031124469, 5.906530034670754, 5.940144327069973, 2.1827071503812205, 1.6667884394783161, 1.229082517376926, 1.1966553071175654, 4.861247577625174, 1.1622669437389694, 1.1555037234216057, 1.1352408539255037, 1.1083604020959812, 1.1006712542269783, 1.0995419340994186, 1.0772789758040962, 0.6883948272996762, 0.6879468815718508, 0.687535692980011, 0.687533329028012, 0.6872539191721209, 0.6869478105642401, 0.6858200200526798, 0.6851717409809325, 0.6852895677648866, 0.685421810020835, 0.6848876959250432, 0.6848158966770712, 0.6847745970450873, 0.684528977797183, 0.6846933419891189, 0.6844615819892093, 0.6844522652372129, 0.6842782598292807, 1.7212841150410747, 2.3480660562367666, 1.792936149061146, 3.9833673967193555, 0.9866218801594326, 1.2417018493720071, 2.4356605825386235, 1.24328514098739, 1.7310235972772783, 1.2314946754559857, 0.9627823049367249, 0.9600221360418008, 1.2257254274262344, 1.2199107544365009, 21.61988251368496, 1.2029398966831157, 0.9542037548920687, 1.1964169651336583, 26.829549175590326, 4.367217949785737, 6.259284340088245, 15.551047046226484, 5.324836920036475, 4.701856028247302, 8.228915796344518, 7.699145068359013, 22.71268171505101, 14.30971972101433, 6.491832694813601, 23.211349138600635, 8.752270665900523, 15.239129976524064, 5.25298798272048, 11.33464589663796, 9.04277607813929, 17.89214046380997, 15.56791175789991, 17.862853416141384, 8.720198048441025, 13.630258731839172, 7.863453637894969, 12.108780660368216, 16.68014468418638, 9.159127014413938, 10.515003110141443, 9.238435657199025, 8.568675214580086, 6.947786564971879, 7.106440190510038, 7.484664352410613, 7.45796708368502, 7.57708504895059, 6.952232648810146, 6.9872043057565145], \"Total\": [467.0, 244.0, 401.0, 423.0, 249.0, 146.0, 258.0, 144.0, 192.0, 535.0, 365.0, 255.0, 299.0, 281.0, 146.0, 200.0, 157.0, 98.0, 237.0, 182.0, 181.0, 204.0, 99.0, 130.0, 59.0, 130.0, 102.0, 233.0, 84.0, 146.0, 12.31115739266049, 11.339003183605724, 17.953653570897966, 12.275947759193768, 12.307770416567525, 8.49743443776222, 7.4985164836140115, 7.49632282637419, 8.439690658034788, 6.553350031865165, 7.48099622019804, 9.442802162456044, 6.518478154782943, 15.712512307309492, 12.281778359975283, 6.525111159133952, 5.585219397031836, 6.523814778742644, 5.589222411432952, 6.531767103017207, 5.58659364104937, 5.595239095049417, 10.237393162995135, 12.887081133725372, 5.569375694502749, 5.567770038228659, 5.5685513247541385, 6.517813351226131, 6.522324887534403, 5.57693432135576, 17.64606306454976, 233.89360626091107, 61.62060166651893, 93.745301980421, 19.732700048962002, 29.123291407197016, 104.44239048267491, 18.854406727400228, 68.94527348473943, 12.267051504772025, 167.47546351730296, 35.5347748917481, 13.1145901890644, 34.78406854098218, 204.15969427183543, 114.93087471780935, 535.9616375341506, 151.53383428214923, 76.90919848163978, 57.785601546112275, 249.68705263252153, 423.8434861006, 113.01900937747077, 154.77141011709742, 85.07556969518903, 467.09960421754954, 237.91126191034772, 71.39996326962746, 244.58255970300243, 299.4073484082327, 126.19129171960796, 121.48193520036892, 80.33156345786078, 85.48939017559515, 155.2769409542426, 255.59442496889056, 281.1343696525517, 195.94091068503877, 192.64285546571298, 181.06172204680323, 365.7447491666606, 146.1285965715782, 401.38387224262976, 195.40090045671062, 258.58122579756673, 162.70353011638687, 181.9592076187856, 157.80863515367184, 174.09264497918474, 200.65419491987728, 182.48163555174176, 218.33272829116984, 176.79842246474942, 15.514999558191755, 9.04115212716056, 5.373079806170765, 7.199128927404226, 5.387405860792988, 6.307501725517143, 4.45916392203068, 4.45367880923844, 4.459499633844409, 4.4503595014305475, 4.443602444845268, 4.444918596473909, 4.453683454240361, 5.3695507718803395, 5.3771546201355145, 4.4425240495751135, 7.085080984257275, 3.5316129251483233, 3.532752113725448, 3.5333538724648075, 3.5382965238219692, 3.53093904047927, 4.449115253110116, 6.991933852280191, 3.5342767567138016, 3.53503856132857, 4.455229514278693, 3.5262560375640852, 3.5388278095404178, 3.537519723184015, 4.454538873259288, 8.192780729609694, 6.183500664711095, 24.599555373650233, 22.36905689782266, 11.916895421992958, 8.192681727341878, 5.982174379272677, 12.802361616844065, 11.635635397210118, 7.242618224792338, 19.379516495037073, 8.89114714879122, 22.475195120176082, 14.375082704629898, 120.47862425080206, 365.7447491666606, 21.917932568678903, 218.33272829116984, 401.38387224262976, 48.181590485157464, 14.376364770348449, 45.69341015794458, 93.78418441156327, 30.09738442995631, 176.79842246474942, 29.197186743531674, 128.56352792273012, 535.9616375341506, 92.65442927682444, 467.09960421754954, 258.58122579756673, 92.48199693995338, 281.1343696525517, 146.12567949498407, 200.65419491987728, 72.10695687686363, 299.4073484082327, 423.8434861006, 195.40090045671062, 146.10301130703854, 146.54678910805464, 145.76168263458356, 181.06172204680323, 195.94091068503877, 255.59442496889056, 174.09264497918474, 182.48163555174176, 237.91126191034772, 181.9592076187856, 116.37178116977557, 162.70353011638687, 244.58255970300243, 134.72593260572614, 192.64285546571298, 249.68705263252153, 2.6413103702286964, 1.964601051031386, 1.9757892652433175, 1.9790498775157386, 1.983267583172224, 1.998148696833221, 2.0044665395128627, 2.005931976865533, 2.0128907676952874, 2.022294984991732, 2.024497348841674, 2.03529296382379, 2.0445674162292438, 2.0561078256616234, 2.064307568296159, 2.0726756961997235, 1.3652262390730783, 1.366295768687843, 1.3651339457279221, 1.3646799504913678, 1.3644934041118573, 1.3654188115181403, 1.3652579616221503, 1.3654775442928881, 1.3668339927922597, 1.366490531688203, 1.3669411970352527, 1.3648194550060515, 1.367120904652487, 1.3668120423649055, 5.101343614382166, 6.7331084294253865, 8.426254402792429, 10.199333265257794, 2.8866220598630736, 4.502001706313609, 2.925752903975511, 2.9297210476805313, 2.936060448174017, 2.9523214107569897, 2.954571978375821, 2.939090051288815, 2.897929692284086, 2.926134739525417, 21.573887997037648, 7.084968585718384, 26.89475012791584, 467.09960421754954, 401.38387224262976, 249.68705263252153, 255.59442496889056, 33.83043768630623, 102.26120095296265, 59.604762502467835, 38.93399957392204, 258.58122579756673, 34.80320799300713, 192.64285546571298, 423.8434861006, 535.9616375341506, 130.31029504477448, 281.1343696525517, 146.12567949498407, 181.9592076187856, 144.2087903989954, 105.12467355837543, 135.53578049478327, 204.15969427183543, 70.40250643983036, 33.06752979985248, 130.17687247317326, 233.89360626091107, 200.65419491987728, 91.19048625357186, 182.48163555174176, 157.80863515367184, 155.2769409542426, 128.54983647829877, 299.4073484082327, 98.94487511296472, 122.20216488343289, 195.40090045671062, 3.1725983447451913, 2.576529067550793, 1.9302178452243541, 1.9516575696281353, 8.017381322539432, 1.9735183643626786, 1.975717978285177, 1.9927138191069802, 2.0097893630586343, 2.0138248205788796, 2.0122139085095974, 2.0318163906526787, 1.3449772025930185, 1.345643435893889, 1.345274698050278, 1.3457248606534118, 1.3460795024414627, 1.3468266038051135, 1.347341016224123, 1.3470233279959527, 1.3475602222733656, 1.348157469536389, 1.3473847993960488, 1.3475422735483722, 1.3475590286531522, 1.3474619386785898, 1.3479402572815204, 1.3475626532675617, 1.3482849009873688, 1.3479553911038975, 3.4727765798126358, 4.931791723167802, 4.05575840853768, 10.512459832874539, 2.079578130226064, 2.8477809001443077, 6.760199276645377, 2.8823588576742116, 4.46596126186696, 2.8903187512785418, 2.0980061996904986, 2.097180384865452, 2.8974470737184723, 2.8947303148770396, 146.54678910805464, 2.8739458480959312, 2.1039712806341573, 2.8821183774139563, 244.58255970300243, 18.980232747564823, 33.560762279972344, 144.2087903989954, 27.938170003406306, 24.420369410171833, 65.40674882791077, 59.604762502467835, 423.8434861006, 192.64285546571298, 49.33882489661056, 467.09960421754954, 84.88552927587169, 249.68705263252153, 35.168271489518276, 146.1285965715782, 98.94487511296472, 365.7447491666606, 299.4073484082327, 401.38387224262976, 99.9102474621291, 258.58122579756673, 86.4351444224412, 237.91126191034772, 535.9616375341506, 157.80863515367184, 281.1343696525517, 200.65419491987728, 182.48163555174176, 105.85819752027265, 116.60401735741463, 176.79842246474942, 174.09264497918474, 255.59442496889056, 130.17687247317326, 195.94091068503877], \"Category\": [\"Default\", \"Default\", \"Default\", \"Default\", \"Default\", \"Default\", \"Default\", \"Default\", \"Default\", \"Default\", \"Default\", \"Default\", \"Default\", \"Default\", \"Default\", \"Default\", \"Default\", \"Default\", \"Default\", \"Default\", \"Default\", \"Default\", \"Default\", \"Default\", \"Default\", \"Default\", \"Default\", \"Default\", \"Default\", \"Default\", \"Topic1\", \"Topic1\", \"Topic1\", \"Topic1\", \"Topic1\", \"Topic1\", \"Topic1\", \"Topic1\", \"Topic1\", \"Topic1\", \"Topic1\", \"Topic1\", \"Topic1\", \"Topic1\", \"Topic1\", \"Topic1\", \"Topic1\", \"Topic1\", \"Topic1\", \"Topic1\", \"Topic1\", \"Topic1\", \"Topic1\", \"Topic1\", \"Topic1\", \"Topic1\", \"Topic1\", \"Topic1\", \"Topic1\", \"Topic1\", \"Topic1\", \"Topic1\", \"Topic1\", \"Topic1\", \"Topic1\", \"Topic1\", \"Topic1\", \"Topic1\", \"Topic1\", \"Topic1\", \"Topic1\", \"Topic1\", \"Topic1\", \"Topic1\", \"Topic1\", \"Topic1\", \"Topic1\", \"Topic1\", \"Topic1\", \"Topic1\", \"Topic1\", \"Topic1\", \"Topic1\", \"Topic1\", \"Topic1\", \"Topic1\", \"Topic1\", \"Topic1\", \"Topic1\", \"Topic1\", \"Topic1\", \"Topic1\", \"Topic1\", \"Topic1\", \"Topic1\", \"Topic1\", \"Topic1\", \"Topic1\", \"Topic1\", \"Topic1\", \"Topic1\", \"Topic1\", \"Topic1\", \"Topic1\", \"Topic1\", \"Topic1\", \"Topic1\", \"Topic1\", \"Topic1\", \"Topic1\", \"Topic1\", \"Topic1\", \"Topic1\", \"Topic2\", \"Topic2\", \"Topic2\", \"Topic2\", \"Topic2\", \"Topic2\", \"Topic2\", \"Topic2\", \"Topic2\", \"Topic2\", \"Topic2\", \"Topic2\", \"Topic2\", \"Topic2\", \"Topic2\", \"Topic2\", \"Topic2\", \"Topic2\", \"Topic2\", \"Topic2\", \"Topic2\", \"Topic2\", \"Topic2\", \"Topic2\", \"Topic2\", \"Topic2\", \"Topic2\", \"Topic2\", \"Topic2\", \"Topic2\", \"Topic2\", \"Topic2\", \"Topic2\", \"Topic2\", \"Topic2\", \"Topic2\", \"Topic2\", \"Topic2\", \"Topic2\", \"Topic2\", \"Topic2\", \"Topic2\", \"Topic2\", \"Topic2\", \"Topic2\", \"Topic2\", \"Topic2\", \"Topic2\", \"Topic2\", \"Topic2\", \"Topic2\", \"Topic2\", \"Topic2\", \"Topic2\", \"Topic2\", \"Topic2\", \"Topic2\", \"Topic2\", \"Topic2\", \"Topic2\", \"Topic2\", \"Topic2\", \"Topic2\", \"Topic2\", \"Topic2\", \"Topic2\", \"Topic2\", \"Topic2\", \"Topic2\", \"Topic2\", \"Topic2\", \"Topic2\", \"Topic2\", \"Topic2\", \"Topic2\", \"Topic2\", \"Topic2\", \"Topic2\", \"Topic2\", \"Topic2\", \"Topic2\", \"Topic2\", \"Topic2\", \"Topic2\", \"Topic2\", \"Topic2\", \"Topic3\", \"Topic3\", \"Topic3\", \"Topic3\", \"Topic3\", \"Topic3\", \"Topic3\", \"Topic3\", \"Topic3\", \"Topic3\", \"Topic3\", \"Topic3\", \"Topic3\", \"Topic3\", \"Topic3\", \"Topic3\", \"Topic3\", \"Topic3\", \"Topic3\", \"Topic3\", \"Topic3\", \"Topic3\", \"Topic3\", \"Topic3\", \"Topic3\", \"Topic3\", \"Topic3\", \"Topic3\", \"Topic3\", \"Topic3\", \"Topic3\", \"Topic3\", \"Topic3\", \"Topic3\", \"Topic3\", \"Topic3\", \"Topic3\", \"Topic3\", \"Topic3\", \"Topic3\", \"Topic3\", \"Topic3\", \"Topic3\", \"Topic3\", \"Topic3\", \"Topic3\", \"Topic3\", \"Topic3\", \"Topic3\", \"Topic3\", \"Topic3\", \"Topic3\", \"Topic3\", \"Topic3\", \"Topic3\", \"Topic3\", \"Topic3\", \"Topic3\", \"Topic3\", \"Topic3\", \"Topic3\", \"Topic3\", \"Topic3\", \"Topic3\", \"Topic3\", \"Topic3\", \"Topic3\", \"Topic3\", \"Topic3\", \"Topic3\", \"Topic3\", \"Topic3\", \"Topic3\", \"Topic3\", \"Topic3\", \"Topic3\", \"Topic3\", \"Topic3\", \"Topic3\", \"Topic3\", \"Topic3\", \"Topic3\", \"Topic4\", \"Topic4\", \"Topic4\", \"Topic4\", \"Topic4\", \"Topic4\", \"Topic4\", \"Topic4\", \"Topic4\", \"Topic4\", \"Topic4\", \"Topic4\", \"Topic4\", \"Topic4\", \"Topic4\", \"Topic4\", \"Topic4\", \"Topic4\", \"Topic4\", \"Topic4\", \"Topic4\", \"Topic4\", \"Topic4\", \"Topic4\", \"Topic4\", \"Topic4\", \"Topic4\", \"Topic4\", \"Topic4\", \"Topic4\", \"Topic4\", \"Topic4\", \"Topic4\", \"Topic4\", \"Topic4\", \"Topic4\", \"Topic4\", \"Topic4\", \"Topic4\", \"Topic4\", \"Topic4\", \"Topic4\", \"Topic4\", \"Topic4\", \"Topic4\", \"Topic4\", \"Topic4\", \"Topic4\", \"Topic4\", \"Topic4\", \"Topic4\", \"Topic4\", \"Topic4\", \"Topic4\", \"Topic4\", \"Topic4\", \"Topic4\", \"Topic4\", \"Topic4\", \"Topic4\", \"Topic4\", \"Topic4\", \"Topic4\", \"Topic4\", \"Topic4\", \"Topic4\", \"Topic4\", \"Topic4\", \"Topic4\", \"Topic4\", \"Topic4\", \"Topic4\", \"Topic4\", \"Topic4\", \"Topic4\", \"Topic4\", \"Topic4\", \"Topic4\", \"Topic4\", \"Topic4\", \"Topic4\", \"Topic4\", \"Topic4\", \"Topic4\"], \"logprob\": [30.0, 29.0, 28.0, 27.0, 26.0, 25.0, 24.0, 23.0, 22.0, 21.0, 20.0, 19.0, 18.0, 17.0, 16.0, 15.0, 14.0, 13.0, 12.0, 11.0, 10.0, 9.0, 8.0, 7.0, 6.0, 5.0, 4.0, 3.0, 2.0, 1.0, -7.9211, -8.0044, -7.5506, -7.9371, -7.9357, -8.3073, -8.444, -8.4484, -8.3313, -8.5865, -8.4543, -8.2267, -8.5979, -7.7187, -7.966, -8.6012, -8.7594, -8.6046, -8.7593, -8.6048, -8.7629, -8.762, -8.158, -7.9286, -8.7694, -8.7731, -8.7733, -8.6167, -8.6166, -8.7744, -7.6258, -5.1044, -6.4117, -6.0077, -7.5382, -7.1616, -5.9316, -7.5881, -6.3555, -8.0101, -5.5438, -7.0028, -7.9472, -7.0349, -5.3982, -5.9353, -4.5396, -5.6983, -6.3221, -6.5835, -5.2545, -4.7825, -5.983, -5.7034, -6.2429, -4.746, -5.3403, -6.4061, -5.3245, -5.1541, -5.9139, -5.9492, -6.3088, -6.2588, -5.748, -5.3249, -5.2525, -5.5685, -5.6011, -5.6573, -5.1001, -5.8314, -5.0472, -5.6123, -5.4066, -5.759, -5.6903, -5.7842, -5.7282, -5.6461, -5.7104, -5.6319, -5.8075, -7.1183, -7.715, -8.2453, -7.9551, -8.2569, -8.1018, -8.4515, -8.4529, -8.4565, -8.4609, -8.464, -8.4664, -8.4653, -8.2792, -8.28, -8.4752, -8.01, -8.7196, -8.7202, -8.7209, -8.72, -8.7235, -8.4952, -8.0435, -8.7295, -8.7325, -8.5026, -8.7376, -8.7341, -8.7362, -8.5076, -7.9174, -8.1949, -6.9051, -7.0009, -7.5965, -7.9541, -8.2414, -7.5521, -7.6394, -8.0695, -7.2007, -7.8964, -7.0957, -7.4878, -5.6903, -4.7685, -7.138, -5.2306, -4.7336, -6.4986, -7.4949, -6.5652, -5.9942, -6.9147, -5.5045, -6.9399, -5.7758, -4.676, -6.0564, -4.8281, -5.2895, -6.0781, -5.2486, -5.7409, -5.5169, -6.2803, -5.2324, -4.9834, -5.5551, -5.7673, -5.7839, -5.7905, -5.6534, -5.6135, -5.4336, -5.6952, -5.6677, -5.5211, -5.7061, -6.0037, -5.8192, -5.6497, -5.9575, -5.8528, -5.8356, -7.5268, -7.8357, -7.8453, -7.8512, -7.8517, -7.8775, -7.8819, -7.8841, -7.8933, -7.9043, -7.9053, -7.9215, -7.9361, -7.9465, -7.9596, -7.9693, -8.4159, -8.4174, -8.4184, -8.4196, -8.4201, -8.4204, -8.4206, -8.4205, -8.4204, -8.4208, -8.4208, -8.423, -8.4213, -8.4219, -7.2013, -7.0718, -6.897, -6.8353, -7.8355, -7.4987, -7.8317, -7.8386, -7.8455, -7.8617, -7.8677, -7.8721, -7.8824, -7.8792, -6.492, -7.2613, -6.3966, -4.7481, -4.8824, -5.1861, -5.247, -6.439, -5.8526, -6.1515, -6.4134, -5.4506, -6.4849, -5.6857, -5.3301, -5.2199, -5.9151, -5.5706, -5.8776, -5.7879, -5.9082, -6.0709, -5.9673, -5.7879, -6.2626, -6.5953, -6.0206, -5.8284, -5.9158, -6.2015, -5.9824, -6.0305, -6.1112, -6.2413, -6.1312, -6.2907, -6.3108, -6.3051, -7.2857, -7.5554, -7.86, -7.8868, -6.485, -7.9159, -7.9218, -7.9395, -7.9634, -7.9704, -7.9714, -7.9919, -8.4397, -8.4403, -8.4409, -8.4409, -8.4413, -8.4418, -8.4434, -8.4444, -8.4442, -8.444, -8.4448, -8.4449, -8.445, -8.4453, -8.4451, -8.4454, -8.4454, -8.4457, -7.5232, -7.2127, -7.4824, -6.6842, -8.0798, -7.8498, -7.1761, -7.8485, -7.5176, -7.8581, -8.1042, -8.1071, -7.8628, -7.8675, -4.9927, -7.8815, -8.1132, -7.887, -4.7768, -6.5922, -6.2322, -5.3222, -6.3939, -6.5183, -5.9586, -6.0252, -4.9434, -5.4054, -6.1958, -4.9217, -5.897, -5.3424, -6.4075, -5.6384, -5.8643, -5.1819, -5.3211, -5.1836, -5.9007, -5.454, -6.0041, -5.5724, -5.2521, -5.8515, -5.7135, -5.8429, -5.9182, -6.1279, -6.1053, -6.0534, -6.057, -6.0412, -6.1272, -6.1222], \"loglift\": [30.0, 29.0, 28.0, 27.0, 26.0, 25.0, 24.0, 23.0, 22.0, 21.0, 20.0, 19.0, 18.0, 17.0, 16.0, 15.0, 14.0, 13.0, 12.0, 11.0, 10.0, 9.0, 8.0, 7.0, 6.0, 5.0, 4.0, 3.0, 2.0, 1.0, 0.4962, 0.4951, 0.4894, 0.483, 0.4818, 0.4806, 0.4691, 0.4649, 0.4635, 0.4613, 0.4611, 0.4558, 0.4552, 0.4545, 0.4536, 0.4509, 0.4483, 0.4477, 0.4476, 0.4462, 0.4445, 0.4438, 0.4437, 0.4429, 0.441, 0.4376, 0.4373, 0.4365, 0.436, 0.4347, 0.4315, 0.3684, 0.395, 0.3794, 0.4073, 0.3945, 0.3475, 0.4029, 0.339, 0.4107, 0.2631, 0.3544, 0.4069, 0.3437, 0.2106, 0.2481, 0.104, 0.2086, 0.263, 0.2874, 0.153, 0.0959, 0.2171, 0.1824, 0.2413, 0.0352, 0.1156, 0.2533, 0.1037, 0.0718, 0.176, 0.1787, 0.2328, 0.2205, 0.1345, 0.0593, 0.0364, 0.0814, 0.0658, 0.0716, -0.0743, 0.1118, -0.1144, 0.0403, -0.034, 0.0768, 0.0336, 0.0822, 0.0399, -0.02, 0.0107, -0.0902, -0.0548, 1.0676, 1.0109, 1.001, 0.9987, 0.9867, 0.9842, 0.9812, 0.9811, 0.9762, 0.9738, 0.9723, 0.9695, 0.9687, 0.9678, 0.9656, 0.9613, 0.9597, 0.9464, 0.9455, 0.9446, 0.9441, 0.9426, 0.9399, 0.9395, 0.9358, 0.9325, 0.9311, 0.9299, 0.9298, 0.9281, 0.9262, 0.9071, 0.9109, 0.82, 0.8191, 0.8533, 0.8704, 0.8975, 0.826, 0.8342, 0.8782, 0.7628, 0.8463, 0.7196, 0.7744, 0.4459, 0.2573, 0.7024, 0.3111, 0.1993, 0.5542, 0.7672, 0.5406, 0.3925, 0.6086, 0.2482, 0.6138, 0.2955, -0.0324, 0.3425, -0.0469, 0.083, 0.3226, 0.0403, 0.2023, 0.1092, 0.3693, -0.0064, -0.1051, 0.0976, 0.1762, 0.1565, 0.1552, 0.0755, 0.0364, -0.0495, 0.0729, 0.0534, -0.0652, 0.0178, 0.1673, 0.0166, -0.2216, 0.067, -0.1859, -0.428, 2.4297, 2.4167, 2.4015, 2.3939, 2.3913, 2.358, 2.3505, 2.3475, 2.3349, 2.3192, 2.3171, 2.2956, 2.2765, 2.2604, 2.2433, 2.2296, 2.2005, 2.1983, 2.1981, 2.1972, 2.1969, 2.1959, 2.1958, 2.1957, 2.1948, 2.1947, 2.1943, 2.1938, 2.1938, 2.1934, 2.0969, 1.9489, 1.8994, 1.7701, 2.0321, 1.9245, 2.0224, 2.0142, 2.0052, 1.9834, 1.9767, 1.9776, 1.9813, 1.9749, 1.3643, 1.7084, 1.2392, 0.0331, 0.0504, 0.2215, 0.1372, 0.9674, 0.4476, 0.6885, 0.8525, -0.078, 0.8932, -0.0188, -0.4517, -0.5762, 0.1427, -0.2816, 0.0656, -0.064, 0.0483, 0.2017, 0.0512, -0.1791, 0.4109, 0.8338, 0.0382, -0.3555, -0.2896, 0.2133, -0.2613, -0.1641, -0.2287, -0.1699, -0.9052, 0.0425, -0.1888, -0.6525, 2.4875, 2.4259, 2.4101, 2.3723, 2.3611, 2.332, 2.325, 2.2988, 2.2663, 2.2573, 2.2571, 2.2269, 2.1917, 2.1905, 2.1902, 2.1899, 2.1892, 2.1882, 2.1862, 2.1855, 2.1852, 2.185, 2.1848, 2.1846, 2.1845, 2.1842, 2.1841, 2.184, 2.1835, 2.1835, 2.1596, 2.1193, 2.0452, 1.891, 2.1158, 2.0314, 1.8406, 2.0206, 1.9137, 2.0083, 2.0825, 2.08, 2.0011, 1.9973, 0.9477, 1.9905, 2.0707, 1.9822, 0.6514, 1.3922, 1.1821, 0.6343, 1.2038, 1.214, 0.7885, 0.8148, -0.065, 0.2615, 0.8333, -0.1405, 0.5894, 0.0651, 0.9601, 0.3048, 0.4688, -0.1561, -0.0952, -0.2508, 0.4228, -0.0815, 0.4643, -0.1165, -0.6084, 0.0148, -0.4246, -0.2168, -0.1971, 0.1378, 0.0637, -0.3007, -0.2889, -0.657, -0.0684, -0.4723]}, \"token.table\": {\"Topic\": [3, 1, 1, 2, 4, 4, 1, 2, 1, 2, 3, 1, 2, 4, 4, 1, 2, 4, 1, 2, 3, 2, 1, 4, 1, 2, 1, 2, 3, 4, 1, 3, 1, 2, 3, 4, 4, 2, 1, 2, 4, 1, 4, 4, 1, 2, 3, 4, 1, 2, 3, 1, 2, 3, 4, 4, 2, 1, 1, 1, 2, 3, 3, 2, 3, 1, 2, 3, 1, 2, 3, 4, 2, 4, 1, 3, 1, 2, 3, 4, 1, 2, 3, 4, 1, 2, 3, 4, 4, 3, 4, 1, 2, 4, 1, 2, 3, 4, 1, 2, 3, 4, 1, 2, 3, 4, 1, 2, 3, 4, 1, 3, 1, 4, 2, 1, 3, 2, 4, 1, 2, 1, 4, 3, 1, 2, 3, 4, 4, 1, 2, 2, 1, 1, 3, 1, 2, 3, 1, 2, 3, 4, 1, 2, 3, 4, 1, 3, 3, 1, 2, 3, 4, 1, 2, 4, 1, 2, 3, 4, 1, 2, 3, 4, 2, 1, 2, 3, 1, 2, 3, 4, 1, 4, 3, 1, 2, 1, 3, 2, 1, 3, 1, 2, 4, 1, 2, 3, 4, 1, 2, 3, 4, 4, 1, 2, 3, 4, 1, 2, 3, 4, 3, 3, 1, 2, 4, 1, 2, 3, 4, 1, 2, 3, 4, 2, 3, 1, 2, 1, 2, 3, 4, 1, 2, 4, 1, 2, 1, 2, 3, 4, 3, 1, 4, 1, 2, 3, 4, 1, 4, 1, 2, 3, 4, 1, 2, 3, 4, 1, 2, 3, 4, 1, 2, 3, 4, 1, 2, 3, 1, 2, 1, 1, 3, 1, 2, 3, 4, 3, 3, 1, 2, 3, 4, 1, 2, 3, 2, 4, 1, 2, 3, 4, 1, 2, 3, 4, 1, 2, 4, 1, 2, 3, 1, 2, 3, 4, 1, 2, 3, 4, 1, 2, 3, 4, 1, 2, 1, 2, 3, 4, 1, 2, 3, 4, 1, 2, 3, 4, 1, 2, 3, 4, 3, 1, 2, 3, 4, 2, 2, 1, 2, 4, 1, 2, 3, 4, 1, 2, 3, 4, 3, 1, 2, 3, 4, 1, 2, 3, 4, 4, 1, 2, 3, 4, 1, 2, 3, 4, 1, 2, 1, 2, 4, 4, 1, 2, 1, 2, 3, 4, 1, 3, 1, 2, 3, 4, 2, 1, 2, 4, 1, 2, 3, 4, 1, 2, 4, 1, 2, 3, 1, 2, 1, 2, 3, 4, 1, 2, 3, 4, 1, 2, 3, 4, 1, 2, 3, 3, 1, 2, 3, 4, 1, 2, 4, 2, 4, 3, 1, 2, 3, 4, 2, 4, 2, 1, 2, 3, 4, 1, 2, 4, 2, 3, 1, 2, 3, 2, 3, 4, 1, 2, 4, 1, 2, 3, 4, 2, 4, 4, 4, 3, 1, 2, 3, 4, 1, 2, 4, 1, 2, 1, 4, 4, 1, 2, 3, 4, 1, 2, 3, 4, 2, 1, 2, 1, 3, 1, 3, 2, 1, 2, 3, 1, 2, 3, 4, 1, 2, 3, 4, 3, 1, 2, 3, 4, 1, 2, 3, 4, 3, 1, 2, 3, 4, 3, 2, 4, 1, 2, 3, 4, 1, 4, 3, 1, 2, 3, 4, 1, 2, 3, 4, 1, 2, 3, 4, 1, 2, 3, 4, 1, 4, 1, 1, 2, 3, 4, 3, 2, 4, 4, 2, 4, 2, 1, 1, 2, 3, 4, 4, 1, 2, 3, 4, 1, 1, 2, 3, 4, 1, 1, 2, 3, 4, 1, 2, 3, 4, 1, 2, 3, 4, 1, 2, 3, 4, 1, 2, 1, 3, 1, 2, 3, 4, 2, 4, 2, 1, 1, 2, 3, 4, 2, 3, 1, 2, 3, 4, 1, 1, 2, 2, 4, 3, 2, 1, 2, 1, 2, 3, 4, 1, 2, 3, 4, 1, 2, 3, 4, 1, 2, 3, 4, 1, 2, 3, 4, 2, 1, 2, 3, 4, 1, 2, 3, 4], \"Freq\": [0.7327725446834177, 0.9199173766193891, 0.24945801123084393, 0.12472900561542197, 0.6236450280771099, 0.5067092447973934, 0.9185875591351736, 0.8990551542138259, 0.29703962456025423, 0.29703962456025423, 0.4455594368403814, 0.8956357685013734, 0.08142143350012486, 0.7420805241041714, 0.7435070260462947, 0.1479246334430886, 0.4437739003292658, 0.2958492668861772, 0.34024136128850213, 0.34024136128850213, 0.34024136128850213, 0.9305649981706398, 0.9335179852303606, 0.7430939482788879, 0.8387604828988365, 0.07625095299080333, 0.6653052143041585, 0.18144687662840686, 0.1209645844189379, 0.030241146104734475, 0.338458500019254, 0.338458500019254, 0.58248876346296, 0.2496380414841257, 0.06240951037103142, 0.11095024065961141, 0.7424860759170899, 0.8491962932650724, 0.3193731880534717, 0.6387463761069434, 0.04562474115049596, 0.3451314120870682, 0.3451314120870682, 0.7417531131165894, 0.7946964792400858, 0.1627691583985718, 0.02872396912915973, 0.01914931275277315, 0.4234316586875612, 0.14114388622918708, 0.28228777245837416, 0.8438736168370422, 0.09737003271196641, 0.03245667757065547, 0.016228338785327735, 0.5061451133161977, 0.9001705372270956, 0.9155622652270148, 0.9204602450953204, 0.8151918165591694, 0.08151918165591694, 0.7324793293446741, 0.7328727255012973, 0.3464256765388382, 0.3464256765388382, 0.4171709800864734, 0.3244663178450349, 0.23176165560359632, 0.16782894614556615, 0.7552302576550477, 0.5004632546040525, 0.7420825201249048, 0.476643014757307, 0.476643014757307, 0.4824681458047259, 0.4824681458047259, 0.37358667114870303, 0.5603800067230545, 0.041509630127633666, 0.020754815063816833, 0.5844577848814693, 0.30614455398553153, 0.0599443881929712, 0.04924003315851206, 0.4767472164822707, 0.2681703092712773, 0.05959340206028384, 0.17878020618085153, 0.5123849673027108, 0.7316177423690885, 0.7420818628149892, 0.3805008593223072, 0.2853756444917304, 0.3805008593223072, 0.5607754942418345, 0.33031981167669705, 0.06145484868403666, 0.05377299259853208, 0.4661643249144354, 0.38509226840757704, 0.020268014126714584, 0.12160808476028749, 0.674997478964683, 0.27987700347316125, 0.016463353145480072, 0.02469502971822011, 0.5680923292236172, 0.3832912100785851, 0.013688971788520896, 0.04106691536556269, 0.3387165084250075, 0.3387165084250075, 0.346938063363458, 0.346938063363458, 0.8988037929776725, 0.34132942479001643, 0.34132942479001643, 0.2879540267038867, 0.5759080534077734, 0.23433176548090162, 0.7029952964427049, 0.9357042556846384, 0.741864312869477, 0.4939497700859697, 0.6250447355547054, 0.3097236600062122, 0.03358449325368566, 0.03171868807292535, 0.7431389128247903, 0.8791300535894322, 0.09768111706549247, 0.8477383363813922, 0.8945788218719518, 0.3405924427141533, 0.3405924427141533, 0.22212341647885195, 0.22212341647885195, 0.4442468329577039, 0.6735805525223295, 0.2694322210089318, 0.023773431265493986, 0.03169790835399198, 0.5986046057875568, 0.30517097549953875, 0.06651162286528409, 0.031299587230721924, 0.4844239372843948, 0.4844239372843948, 0.5042183961886304, 0.6271406686094351, 0.2803687694959827, 0.05902500410441741, 0.03689062756526088, 0.14302194802284673, 0.8581316881370804, 0.14302194802284673, 0.49739410395589573, 0.44332952743895054, 0.04325166121355615, 0.021625830606778074, 0.5678753161795366, 0.31463362112649995, 0.06906591683264633, 0.046043944555097555, 0.8999039944563088, 0.40900175490317614, 0.40900175490317614, 0.1859098885923528, 0.35793325041621443, 0.4295199004994573, 0.03579332504162144, 0.17896662520810722, 0.9205541301472341, 0.7428981707144651, 0.7325288504687912, 0.12205867983087595, 0.8544107588161317, 0.4863558163240858, 0.4863558163240858, 0.8981329816315509, 0.5882737473083587, 0.29413687365417934, 0.8049662151226136, 0.1149951735889448, 0.0574975867944724, 0.722173221110433, 0.21752205455133525, 0.034803528728213635, 0.02610264654616023, 0.5072612325912417, 0.45329727167727984, 0.010792792182792377, 0.03237837654837713, 0.7418726420537106, 0.5316789521622682, 0.4128996117855913, 0.01131231813111209, 0.03959311345889232, 0.5756522297287586, 0.32672153579199814, 0.04667450511314259, 0.05445358929866636, 0.5052929748568439, 0.7571999196091563, 0.893616861596482, 0.4768307043192932, 0.4768307043192932, 0.7977341624756029, 0.174051089994677, 0.014504257499556417, 0.014504257499556417, 0.7281313692713708, 0.2080375340775345, 0.013002345879845906, 0.03900703763953772, 0.3450739342167482, 0.3450739342167482, 0.14114164710635688, 0.8468498826381413, 0.6989974556948105, 0.2388978646045555, 0.017696138118855963, 0.04424034529713991, 0.20869445147844373, 0.6956481715948124, 0.06956481715948125, 0.8472061430882742, 0.10590076788603428, 0.5686944269058233, 0.25591249210762046, 0.028434721345291163, 0.14217360672645582, 0.4985213913198587, 0.897766693120604, 0.4965675215546043, 0.6346904252767213, 0.2984305973155444, 0.01681299139805884, 0.05043897419417652, 0.3454553244081659, 0.3454553244081659, 0.517558686159514, 0.4351157096031312, 0.018320661456973943, 0.027480992185460917, 0.6115576865812806, 0.24462307463251223, 0.03057788432906403, 0.12231153731625612, 0.7344359431331987, 0.20898583747692645, 0.02985511963956092, 0.023884095711648737, 0.8213744942235258, 0.138673615907868, 0.021334402447364308, 0.010667201223682154, 0.8240826788578253, 0.10301033485722816, 0.03433677828574272, 0.8960611608795599, 0.08146010553450544, 0.9195245649725226, 0.5933834609055975, 0.3560300765433585, 0.5992884245677708, 0.30440046962172485, 0.07610011740543121, 0.019025029351357803, 0.489101015726975, 0.4967979465398296, 0.4853900582681525, 0.45765348350997237, 0.027736574758180144, 0.027736574758180144, 0.2032557062131188, 0.7317205423672277, 0.04065114124262376, 0.34795366818151, 0.34795366818151, 0.5858949412377275, 0.3446440830810162, 0.022976272205401077, 0.040208476359451885, 0.7095592012210775, 0.2240713267013929, 0.012448407038966273, 0.04979362815586509, 0.11247142615741697, 0.7872999831019187, 0.11247142615741697, 0.17188575713532078, 0.7734859071089435, 0.08594287856766039, 0.7170095976853565, 0.22333085829543892, 0.03526276709927983, 0.03526276709927983, 0.4482122894065211, 0.4980136548961345, 0.008300227581602242, 0.04150113790801121, 0.6784198704435063, 0.264906806554131, 0.025844566493085953, 0.025844566493085953, 0.13807161567302856, 0.8284296940381713, 0.49003011210041286, 0.4278040661194081, 0.031113022990502406, 0.04666953448575361, 0.5762425719398635, 0.3117377848199262, 0.05667959723998658, 0.06612619677998434, 0.26696097488443044, 0.6674024372110761, 0.044493495814071735, 0.044493495814071735, 0.6075276361922911, 0.3479476461828576, 0.022091914043356038, 0.022091914043356038, 0.4913297583072552, 0.5825481512431937, 0.324248499276872, 0.05495737275879186, 0.0384701609311543, 0.8478656268071857, 0.8496323401813237, 0.20867584037569514, 0.6955861345856504, 0.06955861345856505, 0.6568222031174681, 0.2082606985494411, 0.07209024180557577, 0.06007520150464647, 0.5536470344736915, 0.20132619435406962, 0.11744028003987395, 0.13421746290271308, 0.7324623097687971, 0.6295824510634755, 0.2874180754854997, 0.006843287511559517, 0.07527616262715468, 0.4435443478196781, 0.3753067558474199, 0.03411879598612908, 0.15012270233896796, 0.5018282055413971, 0.8166106079314424, 0.13681434269008458, 0.042754482090651434, 0.004275448209065143, 0.5032588849954949, 0.3911467571499638, 0.06228451546973946, 0.04484485113821241, 0.8937443279891595, 0.08124948436265086, 0.6322367148811496, 0.1580591787202874, 0.21074557162704988, 0.6303981099002405, 0.15854137557417972, 0.7927068778708987, 0.5573961528793158, 0.3227030358774986, 0.08800991887568144, 0.029336639625227146, 0.39205357474086244, 0.39205357474086244, 0.6255556413580285, 0.2575817346768353, 0.00817719792624874, 0.11039217200435798, 0.8979605103486925, 0.17881844631497848, 0.7152737852599139, 0.04470461157874462, 0.5921670364805721, 0.3180156307025295, 0.07676239361785195, 0.021932112462243414, 0.1617206909521246, 0.808603454760623, 0.5180762381169299, 0.8910096441730182, 0.06364354601235844, 0.06364354601235844, 0.06445375626659368, 0.9023525877323115, 0.6045275807767152, 0.3172934816231378, 0.023379519698547, 0.05343890216810742, 0.5833509442573112, 0.33435968756211737, 0.04268421543346179, 0.03912719748067331, 0.24569652895999256, 0.5323424794133171, 0.04094942149333209, 0.20474710746666044, 0.8615141342957904, 0.10135460403479887, 0.050677302017399437, 0.7326976446093861, 0.5531905278348311, 0.35882628832529584, 0.04485328604066198, 0.04485328604066198, 0.3654802637617759, 0.5980586134283606, 0.03322547852379781, 0.405532129551358, 0.405532129551358, 0.7315603642416306, 0.6084686664707412, 0.32574585174696247, 0.030730740730845515, 0.03687688887701462, 0.3469670114304159, 0.3469670114304159, 0.8969616164205653, 0.5452832067181221, 0.3480531106711418, 0.05414159499328872, 0.05414159499328872, 0.9479020409810647, 0.3511506099185251, 0.3511506099185251, 0.929859814943166, 0.7323445223830828, 0.9468824789822282, 0.05569896935189578, 0.05569896935189578, 0.34174776249783617, 0.34174776249783617, 0.776238089136393, 0.8500479650973481, 0.05666986433982321, 0.05666986433982321, 0.7018414785362259, 0.22224980153647153, 0.02339471595120753, 0.04678943190241506, 0.48086676113067867, 0.48086676113067867, 0.49696505712987443, 0.7420917470490794, 0.4988858533118871, 0.3939298891849155, 0.5471248460901604, 0.021884993843606416, 0.04376998768721283, 0.8486079796267442, 0.05303799872667151, 0.10607599745334302, 0.2441203096325947, 0.7323609288977841, 0.8978995987292546, 0.7422025960454063, 0.7416830072543906, 0.5183451216638263, 0.36519769935405944, 0.011780570946905143, 0.10602513852214629, 0.5171937024775609, 0.3160628181807317, 0.14366491735487805, 0.02873298347097561, 0.85076068443186, 0.13890569401992467, 0.8334341641195481, 0.3417923634771756, 0.3417923634771756, 0.894999765735747, 0.5061268514771743, 0.9311765941732724, 0.8980255947479306, 0.8358164912952452, 0.16716329825904902, 0.4649053318575833, 0.38405223066496014, 0.06063982589446739, 0.09095973884170108, 0.5249562719286244, 0.4155903819434943, 0.01367073624814126, 0.04921465049330854, 0.5090091952638501, 0.5625621117833103, 0.3773282457083179, 0.02744205423333221, 0.04116308134999831, 0.5136898396997976, 0.28252941183488867, 0.1284224599249494, 0.07705347595496964, 0.4944877020520764, 0.5789531272221071, 0.34143389554124265, 0.037112379950135076, 0.044534855940162085, 0.7323760237989914, 0.8494702175986639, 0.7421359901123932, 0.6929145592956798, 0.250769078602246, 0.019797558837019422, 0.03299593139503237, 0.44783191853390947, 0.44783191853390947, 0.7319059481245233, 0.7282916911824249, 0.21008414168723794, 0.04201682833744758, 0.028011218891631724, 0.8161019758347869, 0.11256578977031544, 0.05628289488515772, 0.02814144744257886, 0.6146685186494564, 0.27881870949047505, 0.05069431081645001, 0.05703109966850626, 0.5605030657263336, 0.3002694994962501, 0.050044916582708356, 0.09008084984887503, 0.34598260124688557, 0.34598260124688557, 0.8952199805538811, 0.602150542876717, 0.26473860074752215, 0.057100482514171436, 0.07267334138167274, 0.7316294918427595, 0.8480518088249104, 0.7423776405474432, 0.7421784782255518, 0.8486470367872063, 0.4975645798414078, 0.8970291449116365, 0.8819117375730439, 0.24656300974311585, 0.24656300974311585, 0.24656300974311585, 0.4931260194862317, 0.743342606122981, 0.45849948229328785, 0.46916226095127134, 0.01066277865798344, 0.053313893289917196, 0.8965499164753464, 0.30824887613509044, 0.5822478771440598, 0.06849975025224232, 0.03424987512612116, 0.9414606324525856, 0.5269436574468974, 0.3900751749931578, 0.06159081710418281, 0.020530272368060935, 0.6124295308236652, 0.33173266252948536, 0.020414317694122178, 0.03572505596471381, 0.6955339569177118, 0.22531381702968128, 0.04898126457166985, 0.029388758743001907, 0.5699203631398367, 0.33976021648721033, 0.04384002793383359, 0.049320031425562794, 0.11060537262678018, 0.8848429810142414, 0.8535679946340294, 0.0775970904212754, 0.7441300055635222, 0.12113744276615476, 0.05191604689978061, 0.08652674483296768, 0.47529165878090807, 0.47529165878090807, 0.9280904630534064, 0.8934984460971834, 0.5891875980157953, 0.3109601211750031, 0.04909896650131628, 0.057282127584868996, 0.8978213102557984, 0.731801631120393, 0.5929272483965459, 0.3780985352093916, 0.008593148527486171, 0.017186297054972342, 0.9197072883722182, 0.25800437287898575, 0.6708113694853629, 0.8981339183469279, 0.49217045624815087, 0.7314642008595379, 0.8488299605573117, 0.9337911616308752, 0.8490516682687237, 0.5885336235974883, 0.35312017415849295, 0.030706102100738517, 0.030706102100738517, 0.5965696695173116, 0.26987675525783145, 0.08522423850247308, 0.05681615900164872, 0.5900377715659701, 0.27766483367810363, 0.046277472279683936, 0.09255494455936787, 0.5911836017449911, 0.20691426061074686, 0.14779590043624777, 0.059118360174499104, 0.6440106263393497, 0.27692456932592036, 0.045080743843754476, 0.032200531316967484, 0.9003890480643685, 0.6205120725568412, 0.2878421020986107, 0.037749783881785015, 0.054265314330065956, 0.5831703018564652, 0.32588928633155406, 0.02572810155249111, 0.06003223695581259], \"Term\": [\"abovementioned\", \"accident\", \"accomplished\", \"accomplished\", \"accomplished\", \"acknowledgments\", \"addresses\", \"agitated\", \"along\", \"along\", \"along\", \"amusement\", \"amusement\", \"ancle\", \"ascertaining\", \"assembly\", \"assembly\", \"assembly\", \"assertions\", \"assertions\", \"assertions\", \"attempted\", \"aunts\", \"barefaced\", \"begin\", \"begin\", \"believed\", \"believed\", \"believed\", \"believed\", \"betray\", \"betray\", \"bingley\", \"bingley\", \"bingley\", \"bingley\", \"boulanger\", \"bridge\", \"brighton\", \"brighton\", \"brighton\", \"brotherinlaw\", \"brotherinlaw\", \"catching\", \"catherine\", \"catherine\", \"catherine\", \"catherine\", \"charge\", \"charge\", \"charge\", \"charlotte\", \"charlotte\", \"charlotte\", \"charlotte\", \"cheapside\", \"cheeks\", \"choose\", \"christmas\", \"chuse\", \"chuse\", \"closely\", \"coarse\", \"collected\", \"collected\", \"colonel_fitzwilliam\", \"colonel_fitzwilliam\", \"colonel_fitzwilliam\", \"colour\", \"colour\", \"comfortably\", \"comforted\", \"consulted\", \"consulted\", \"containing\", \"containing\", \"continued\", \"continued\", \"continued\", \"continued\", \"could\", \"could\", \"could\", \"could\", \"country\", \"country\", \"country\", \"country\", \"creditors\", \"criticisms\", \"crown\", \"danced\", \"danced\", \"danced\", \"darcy\", \"darcy\", \"darcy\", \"darcy\", \"daughters\", \"daughters\", \"daughters\", \"daughters\", \"day\", \"day\", \"day\", \"day\", \"dear\", \"dear\", \"dear\", \"dear\", \"determination\", \"determination\", \"detest\", \"detest\", \"die\", \"discussed\", \"discussed\", \"dispatched\", \"dispatched\", \"distressed\", \"distressed\", \"domestic\", \"dresses\", \"edged\", \"elizabeth\", \"elizabeth\", \"elizabeth\", \"elizabeth\", \"eluded\", \"endeavoured\", \"endeavoured\", \"energy\", \"entertain\", \"err\", \"err\", \"events\", \"events\", \"events\", \"ever\", \"ever\", \"ever\", \"ever\", \"every\", \"every\", \"every\", \"every\", \"existing\", \"existing\", \"fainter\", \"family\", \"family\", \"family\", \"family\", \"fancied\", \"fancied\", \"fancied\", \"felt\", \"felt\", \"felt\", \"felt\", \"first\", \"first\", \"first\", \"first\", \"fit\", \"fitzwilliam\", \"fitzwilliam\", \"fitzwilliam\", \"five\", \"five\", \"five\", \"five\", \"forbearance\", \"forbidding\", \"fruit\", \"fun\", \"fun\", \"gates\", \"gates\", \"gentleness\", \"georgiana\", \"georgiana\", \"girl\", \"girl\", \"girl\", \"give\", \"give\", \"give\", \"give\", \"go\", \"go\", \"go\", \"go\", \"gods\", \"good\", \"good\", \"good\", \"good\", \"great\", \"great\", \"great\", \"great\", \"gross\", \"grove\", \"guest\", \"haggerston\", \"haggerston\", \"happiness\", \"happiness\", \"happiness\", \"happiness\", \"happy\", \"happy\", \"happy\", \"happy\", \"haughty\", \"haughty\", \"hill\", \"hill\", \"hope\", \"hope\", \"hope\", \"hope\", \"housekeeper\", \"housekeeper\", \"housekeeper\", \"humble\", \"humble\", \"husband\", \"husband\", \"husband\", \"husband\", \"idleness\", \"imagined\", \"intricate\", \"jane\", \"jane\", \"jane\", \"jane\", \"kingdom\", \"kingdom\", \"know\", \"know\", \"know\", \"know\", \"ladies\", \"ladies\", \"ladies\", \"ladies\", \"lady\", \"lady\", \"lady\", \"lady\", \"lady_catherine\", \"lady_catherine\", \"lady_catherine\", \"lady_catherine\", \"ladyship\", \"ladyship\", \"ladyship\", \"ladyships\", \"ladyships\", \"lakes\", \"lane\", \"lane\", \"letter\", \"letter\", \"letter\", \"letter\", \"liberally\", \"lieu\", \"like\", \"like\", \"like\", \"like\", \"liked\", \"liked\", \"liked\", \"list\", \"list\", \"little\", \"little\", \"little\", \"little\", \"longbourn\", \"longbourn\", \"longbourn\", \"longbourn\", \"longed\", \"longed\", \"longed\", \"lord\", \"lord\", \"lord\", \"love\", \"love\", \"love\", \"love\", \"lydia\", \"lydia\", \"lydia\", \"lydia\", \"make\", \"make\", \"make\", \"make\", \"mamma\", \"mamma\", \"man\", \"man\", \"man\", \"man\", \"many\", \"many\", \"many\", \"many\", \"master\", \"master\", \"master\", \"master\", \"may\", \"may\", \"may\", \"may\", \"meit\", \"might\", \"might\", \"might\", \"might\", \"minds\", \"miniatures\", \"misery\", \"misery\", \"misery\", \"miss\", \"miss\", \"miss\", \"miss\", \"miss_bingley\", \"miss_bingley\", \"miss_bingley\", \"miss_bingley\", \"mostly\", \"mr_bennet\", \"mr_bennet\", \"mr_bennet\", \"mr_bennet\", \"mr_bingley\", \"mr_bingley\", \"mr_bingley\", \"mr_bingley\", \"mr_bingleyis\", \"mr_collins\", \"mr_collins\", \"mr_collins\", \"mr_collins\", \"mr_darcy\", \"mr_darcy\", \"mr_darcy\", \"mr_darcy\", \"mr_denny\", \"mr_denny\", \"mr_hurst\", \"mr_hurst\", \"mr_hurst\", \"mr_jones\", \"mr_philips\", \"mr_philips\", \"mr_wickham\", \"mr_wickham\", \"mr_wickham\", \"mr_wickham\", \"mrs_annesley\", \"mrs_annesley\", \"mrs_bennet\", \"mrs_bennet\", \"mrs_bennet\", \"mrs_bennet\", \"mrs_f\", \"mrs_forster\", \"mrs_forster\", \"mrs_forster\", \"mrs_gardiner\", \"mrs_gardiner\", \"mrs_gardiner\", \"mrs_gardiner\", \"mrs_hill\", \"mrs_hill\", \"mrs_hursts\", \"mrs_jenkinson\", \"mrs_jenkinson\", \"mrs_jenkinson\", \"mrs_reynolds\", \"mrs_reynolds\", \"much\", \"much\", \"much\", \"much\", \"must\", \"must\", \"must\", \"must\", \"neighbourhood\", \"neighbourhood\", \"neighbourhood\", \"neighbourhood\", \"nephew\", \"nephew\", \"nephew\", \"nettled\", \"never\", \"never\", \"never\", \"never\", \"news\", \"news\", \"news\", \"north\", \"north\", \"nose\", \"nothing\", \"nothing\", \"nothing\", \"nothing\", \"nuptials\", \"nuptials\", \"occasioned\", \"one\", \"one\", \"one\", \"one\", \"openly\", \"partners\", \"partners\", \"parts\", \"peaches\", \"persuade\", \"persuade\", \"persuade\", \"perusal\", \"perusal\", \"petticoat\", \"play\", \"play\", \"play\", \"pleasure\", \"pleasure\", \"pleasure\", \"pleasure\", \"pocket\", \"pocket\", \"poetry\", \"popularity\", \"previously\", \"pride\", \"pride\", \"pride\", \"pride\", \"proper\", \"proper\", \"proper\", \"property\", \"property\", \"proposed\", \"proudest\", \"quieter\", \"quite\", \"quite\", \"quite\", \"quite\", \"read\", \"read\", \"read\", \"read\", \"regiments\", \"rejoice\", \"rejoice\", \"remind\", \"remind\", \"repeat\", \"revealed\", \"ring\", \"risk\", \"river\", \"river\", \"room\", \"room\", \"room\", \"room\", \"said\", \"said\", \"said\", \"said\", \"saloon\", \"say\", \"say\", \"say\", \"say\", \"scarcely\", \"scarcely\", \"scarcely\", \"scarcely\", \"school\", \"see\", \"see\", \"see\", \"see\", \"selfsufficiency\", \"settling\", \"seven\", \"shall\", \"shall\", \"shall\", \"shall\", \"shocking\", \"shocking\", \"shrewish\", \"sir\", \"sir\", \"sir\", \"sir\", \"sir_william\", \"sir_william\", \"sir_william\", \"sir_william\", \"sister\", \"sister\", \"sister\", \"sister\", \"sisters\", \"sisters\", \"sisters\", \"sisters\", \"slighted\", \"slighted\", \"solemnity\", \"soon\", \"soon\", \"soon\", \"soon\", \"spanish\", \"speaks\", \"sprained\", \"starting\", \"steadily\", \"stout\", \"stream\", \"street\", \"sum\", \"sum\", \"sum\", \"sum\", \"suppositions\", \"sure\", \"sure\", \"sure\", \"sure\", \"sweetness\", \"talk\", \"talk\", \"talk\", \"talk\", \"taught\", \"thing\", \"thing\", \"thing\", \"thing\", \"think\", \"think\", \"think\", \"think\", \"though\", \"though\", \"though\", \"though\", \"time\", \"time\", \"time\", \"time\", \"today\", \"today\", \"tolerably\", \"tolerably\", \"town\", \"town\", \"town\", \"town\", \"transports\", \"transports\", \"treat\", \"tuesday\", \"two\", \"two\", \"two\", \"two\", \"unequal\", \"uppermost\", \"us\", \"us\", \"us\", \"us\", \"useful\", \"vain\", \"vain\", \"valley\", \"vast\", \"venting\", \"waiter\", \"wanting\", \"water\", \"well\", \"well\", \"well\", \"well\", \"whole\", \"whole\", \"whole\", \"whole\", \"wish\", \"wish\", \"wish\", \"wish\", \"wished\", \"wished\", \"wished\", \"wished\", \"without\", \"without\", \"without\", \"without\", \"wood\", \"would\", \"would\", \"would\", \"would\", \"young\", \"young\", \"young\", \"young\"]}, \"R\": 30, \"lambda.step\": 0.01, \"plot.opts\": {\"xlab\": \"PC1\", \"ylab\": \"PC2\"}, \"topic.order\": [3, 4, 1, 2]};\n",
       "\n",
       "function LDAvis_load_lib(url, callback){\n",
       "  var s = document.createElement('script');\n",
       "  s.src = url;\n",
       "  s.async = true;\n",
       "  s.onreadystatechange = s.onload = callback;\n",
       "  s.onerror = function(){console.warn(\"failed to load library \" + url);};\n",
       "  document.getElementsByTagName(\"head\")[0].appendChild(s);\n",
       "}\n",
       "\n",
       "if(typeof(LDAvis) !== \"undefined\"){\n",
       "   // already loaded: just create the visualization\n",
       "   !function(LDAvis){\n",
       "       new LDAvis(\"#\" + \"ldavis_el95150132679444969281182677\", ldavis_el95150132679444969281182677_data);\n",
       "   }(LDAvis);\n",
       "}else if(typeof define === \"function\" && define.amd){\n",
       "   // require.js is available: use it to load d3/LDAvis\n",
       "   require.config({paths: {d3: \"https://d3js.org/d3.v5\"}});\n",
       "   require([\"d3\"], function(d3){\n",
       "      window.d3 = d3;\n",
       "      LDAvis_load_lib(\"https://cdn.jsdelivr.net/gh/bmabey/pyLDAvis@3.4.0/pyLDAvis/js/ldavis.v3.0.0.js\", function(){\n",
       "        new LDAvis(\"#\" + \"ldavis_el95150132679444969281182677\", ldavis_el95150132679444969281182677_data);\n",
       "      });\n",
       "    });\n",
       "}else{\n",
       "    // require.js not available: dynamically load d3 & LDAvis\n",
       "    LDAvis_load_lib(\"https://d3js.org/d3.v5.js\", function(){\n",
       "         LDAvis_load_lib(\"https://cdn.jsdelivr.net/gh/bmabey/pyLDAvis@3.4.0/pyLDAvis/js/ldavis.v3.0.0.js\", function(){\n",
       "                 new LDAvis(\"#\" + \"ldavis_el95150132679444969281182677\", ldavis_el95150132679444969281182677_data);\n",
       "            })\n",
       "         });\n",
       "}\n",
       "</script>"
      ],
      "text/plain": [
       "PreparedData(topic_coordinates=              x         y  topics  cluster       Freq\n",
       "topic                                                \n",
       "2      0.023025 -0.020126       1        1  56.406123\n",
       "3      0.034320 -0.019450       2        1  32.037677\n",
       "0     -0.061658 -0.014555       3        1   5.837555\n",
       "1      0.004313  0.054130       4        1   5.718645, topic_info=           Term        Freq       Total Category  logprob  loglift\n",
       "466       could  467.000000  467.000000  Default  30.0000  30.0000\n",
       "345  mrs_bennet  244.000000  244.000000  Default  29.0000  29.0000\n",
       "604    mr_darcy  401.000000  401.000000  Default  28.0000  28.0000\n",
       "236       would  423.000000  423.000000  Default  27.0000  27.0000\n",
       "599        miss  249.000000  249.000000  Default  26.0000  26.0000\n",
       "..          ...         ...         ...      ...      ...      ...\n",
       "74         good    7.484664  176.798422   Topic4  -6.0534  -0.3007\n",
       "108      little    7.457967  174.092645   Topic4  -6.0570  -0.2889\n",
       "294       every    7.577085  255.594425   Topic4  -6.0412  -0.6570\n",
       "477       darcy    6.952233  130.176872   Topic4  -6.1272  -0.0684\n",
       "207       think    6.987204  195.940911   Topic4  -6.1222  -0.4723\n",
       "\n",
       "[365 rows x 6 columns], token_table=      Topic      Freq            Term\n",
       "term                                 \n",
       "5911      3  0.732773  abovementioned\n",
       "3223      1  0.919917        accident\n",
       "405       1  0.249458    accomplished\n",
       "405       2  0.124729    accomplished\n",
       "405       4  0.623645    accomplished\n",
       "...     ...       ...             ...\n",
       "236       4  0.054265           would\n",
       "239       1  0.583170           young\n",
       "239       2  0.325889           young\n",
       "239       3  0.025728           young\n",
       "239       4  0.060032           young\n",
       "\n",
       "[639 rows x 3 columns], R=30, lambda_step=0.01, plot_opts={'xlab': 'PC1', 'ylab': 'PC2'}, topic_order=[3, 4, 1, 2])"
      ]
     },
     "execution_count": 13,
     "metadata": {},
     "output_type": "execute_result"
    }
   ],
   "source": [
    "pyLDAvis.enable_notebook()\n",
    "p = pyLDAvis.gensim_models.prepare(model, corpus, dictionary)\n",
    "p"
   ]
  },
  {
   "cell_type": "markdown",
   "metadata": {},
   "source": [
    "可以將LDAvis的結果儲存成html檔案"
   ]
  },
  {
   "cell_type": "code",
   "execution_count": 14,
   "metadata": {},
   "outputs": [],
   "source": [
    "pyLDAvis.save_html(p, \"lda_en.html\")"
   ]
  },
  {
   "attachments": {},
   "cell_type": "markdown",
   "metadata": {},
   "source": [
    "## 4. 主題分佈的應用，搭配其他文章資訊\n",
    "\n",
    "有了前面訓練的主題模型，接下來可以分析每一章節主題的分佈情況"
   ]
  },
  {
   "cell_type": "code",
   "execution_count": 15,
   "metadata": {},
   "outputs": [],
   "source": [
    "# 取得每章的主題分佈\n",
    "topics_doc = model.get_document_topics(corpus)"
   ]
  },
  {
   "cell_type": "code",
   "execution_count": 16,
   "metadata": {},
   "outputs": [
    {
     "data": {
      "text/html": [
       "<div>\n",
       "<style scoped>\n",
       "    .dataframe tbody tr th:only-of-type {\n",
       "        vertical-align: middle;\n",
       "    }\n",
       "\n",
       "    .dataframe tbody tr th {\n",
       "        vertical-align: top;\n",
       "    }\n",
       "\n",
       "    .dataframe thead th {\n",
       "        text-align: right;\n",
       "    }\n",
       "</style>\n",
       "<table border=\"1\" class=\"dataframe\">\n",
       "  <thead>\n",
       "    <tr style=\"text-align: right;\">\n",
       "      <th></th>\n",
       "      <th>topic_1</th>\n",
       "      <th>topic_2</th>\n",
       "      <th>topic_3</th>\n",
       "      <th>topic_4</th>\n",
       "    </tr>\n",
       "  </thead>\n",
       "  <tbody>\n",
       "    <tr>\n",
       "      <th>0</th>\n",
       "      <td>0.0</td>\n",
       "      <td>0.000000</td>\n",
       "      <td>0.000000</td>\n",
       "      <td>0.997867</td>\n",
       "    </tr>\n",
       "    <tr>\n",
       "      <th>1</th>\n",
       "      <td>0.0</td>\n",
       "      <td>0.000000</td>\n",
       "      <td>0.997692</td>\n",
       "      <td>0.000000</td>\n",
       "    </tr>\n",
       "    <tr>\n",
       "      <th>2</th>\n",
       "      <td>0.0</td>\n",
       "      <td>0.999029</td>\n",
       "      <td>0.000000</td>\n",
       "      <td>0.000000</td>\n",
       "    </tr>\n",
       "    <tr>\n",
       "      <th>3</th>\n",
       "      <td>0.0</td>\n",
       "      <td>0.000000</td>\n",
       "      <td>0.000000</td>\n",
       "      <td>0.997607</td>\n",
       "    </tr>\n",
       "    <tr>\n",
       "      <th>4</th>\n",
       "      <td>0.0</td>\n",
       "      <td>0.000000</td>\n",
       "      <td>0.000000</td>\n",
       "      <td>0.998238</td>\n",
       "    </tr>\n",
       "    <tr>\n",
       "      <th>...</th>\n",
       "      <td>...</td>\n",
       "      <td>...</td>\n",
       "      <td>...</td>\n",
       "      <td>...</td>\n",
       "    </tr>\n",
       "    <tr>\n",
       "      <th>56</th>\n",
       "      <td>0.0</td>\n",
       "      <td>0.000000</td>\n",
       "      <td>0.297151</td>\n",
       "      <td>0.702148</td>\n",
       "    </tr>\n",
       "    <tr>\n",
       "      <th>57</th>\n",
       "      <td>0.0</td>\n",
       "      <td>0.000000</td>\n",
       "      <td>0.999240</td>\n",
       "      <td>0.000000</td>\n",
       "    </tr>\n",
       "    <tr>\n",
       "      <th>58</th>\n",
       "      <td>0.0</td>\n",
       "      <td>0.000000</td>\n",
       "      <td>0.342428</td>\n",
       "      <td>0.657096</td>\n",
       "    </tr>\n",
       "    <tr>\n",
       "      <th>59</th>\n",
       "      <td>0.0</td>\n",
       "      <td>0.000000</td>\n",
       "      <td>0.998882</td>\n",
       "      <td>0.000000</td>\n",
       "    </tr>\n",
       "    <tr>\n",
       "      <th>60</th>\n",
       "      <td>0.0</td>\n",
       "      <td>0.000000</td>\n",
       "      <td>0.998653</td>\n",
       "      <td>0.000000</td>\n",
       "    </tr>\n",
       "  </tbody>\n",
       "</table>\n",
       "<p>61 rows × 4 columns</p>\n",
       "</div>"
      ],
      "text/plain": [
       "    topic_1   topic_2   topic_3   topic_4\n",
       "0       0.0  0.000000  0.000000  0.997867\n",
       "1       0.0  0.000000  0.997692  0.000000\n",
       "2       0.0  0.999029  0.000000  0.000000\n",
       "3       0.0  0.000000  0.000000  0.997607\n",
       "4       0.0  0.000000  0.000000  0.998238\n",
       "..      ...       ...       ...       ...\n",
       "56      0.0  0.000000  0.297151  0.702148\n",
       "57      0.0  0.000000  0.999240  0.000000\n",
       "58      0.0  0.000000  0.342428  0.657096\n",
       "59      0.0  0.000000  0.998882  0.000000\n",
       "60      0.0  0.000000  0.998653  0.000000\n",
       "\n",
       "[61 rows x 4 columns]"
      ]
     },
     "execution_count": 16,
     "metadata": {},
     "output_type": "execute_result"
    }
   ],
   "source": [
    "# 將gensim的表示法轉成稀疏矩陣\n",
    "m_theta = corpus2csc(topics_doc).T.toarray()\n",
    "theta = pd.DataFrame(m_theta, columns=[f\"topic_{i+1}\" for i in range(m_theta.shape[1])])\n",
    "theta"
   ]
  },
  {
   "cell_type": "markdown",
   "metadata": {},
   "source": [
    "#### 將每個章節的主題機率分布視覺化"
   ]
  },
  {
   "cell_type": "code",
   "execution_count": 17,
   "metadata": {},
   "outputs": [
    {
     "data": {
      "text/plain": [
       "<Axes: >"
      ]
     },
     "execution_count": 17,
     "metadata": {},
     "output_type": "execute_result"
    },
    {
     "data": {
      "image/png": "[encoded data removed]",
      "text/plain": [
       "<Figure size 1500x600 with 1 Axes>"
      ]
     },
     "metadata": {},
     "output_type": "display_data"
    }
   ],
   "source": [
    "fig, ax = plt.subplots(figsize=(15, 6))\n",
    "theta.plot.bar(ax=ax, stacked=True, color = plt.cm.Set3.colors)"
   ]
  }
 ],
 "metadata": {
  "kernelspec": {
   "display_name": "SMA2025",
   "language": "python",
   "name": "python3"
  },
  "language_info": {
   "codemirror_mode": {
    "name": "ipython",
    "version": 3
   },
   "file_extension": ".py",
   "mimetype": "text/x-python",
   "name": "python",
   "nbconvert_exporter": "python",
   "pygments_lexer": "ipython3",
   "version": "3.11.0"
  },
  "orig_nbformat": 4
 },
 "nbformat": 4,
 "nbformat_minor": 2
}
